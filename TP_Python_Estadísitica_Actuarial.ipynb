{
  "nbformat": 4,
  "nbformat_minor": 0,
  "metadata": {
    "colab": {
      "provenance": [],
      "include_colab_link": true
    },
    "kernelspec": {
      "name": "python3",
      "display_name": "Python 3"
    },
    "language_info": {
      "name": "python"
    }
  },
  "cells": [
    {
      "cell_type": "markdown",
      "metadata": {
        "id": "view-in-github",
        "colab_type": "text"
      },
      "source": [
        "<a href=\"https://colab.research.google.com/github/josefinavanotti/josefinavanotti/blob/main/TP_Python_Estad%C3%ADsitica_Actuarial.ipynb\" target=\"_parent\"><img src=\"https://colab.research.google.com/assets/colab-badge.svg\" alt=\"Open In Colab\"/></a>"
      ]
    },
    {
      "cell_type": "markdown",
      "source": [
        "## **2.1 Estadística Descriptiva y Manejo de Datos**"
      ],
      "metadata": {
        "id": "e0Lo7AwsVWjp"
      }
    },
    {
      "cell_type": "markdown",
      "source": [
        "Importo las librerías que se van a utilizar:"
      ],
      "metadata": {
        "id": "Yw7pKP44Xb0m"
      }
    },
    {
      "cell_type": "code",
      "source": [
        "import pandas as pd\n",
        "import numpy as np\n",
        "import statistics\n",
        "\n",
        "import matplotlib.pyplot as plt\n",
        "import seaborn as sn\n",
        "\n",
        "from scipy import stats\n",
        "from random import sample\n",
        "from scipy.stats import norm\n",
        "import warnings\n",
        "\n",
        "import itertools \n",
        "\n",
        "warnings.filterwarnings(\"ignore\")\n",
        "plt.style.use('tableau-colorblind10')\n",
        "\n",
        "import statsmodels.api as sm\n",
        "import matplotlib\n",
        "\n",
        "warnings.simplefilter(\"ignore\")"
      ],
      "metadata": {
        "id": "4gT2klCJXZt8"
      },
      "execution_count": 133,
      "outputs": []
    },
    {
      "cell_type": "markdown",
      "source": [
        "Importación y lectura del archivo:"
      ],
      "metadata": {
        "id": "YzAEs_PiX3dh"
      }
    },
    {
      "cell_type": "code",
      "source": [
        "from google.colab import files\n",
        "uploaded = files.upload()"
      ],
      "metadata": {
        "colab": {
          "base_uri": "https://localhost:8080/",
          "height": 72
        },
        "id": "GpkF3RzHX67i",
        "outputId": "1aee453a-f261-4d7f-a210-daf5a385e316"
      },
      "execution_count": 134,
      "outputs": [
        {
          "output_type": "display_data",
          "data": {
            "text/plain": [
              "<IPython.core.display.HTML object>"
            ],
            "text/html": [
              "\n",
              "     <input type=\"file\" id=\"files-678ad640-0b29-47d2-86d8-b187c0dd74cb\" name=\"files[]\" multiple disabled\n",
              "        style=\"border:none\" />\n",
              "     <output id=\"result-678ad640-0b29-47d2-86d8-b187c0dd74cb\">\n",
              "      Upload widget is only available when the cell has been executed in the\n",
              "      current browser session. Please rerun this cell to enable.\n",
              "      </output>\n",
              "      <script>// Copyright 2017 Google LLC\n",
              "//\n",
              "// Licensed under the Apache License, Version 2.0 (the \"License\");\n",
              "// you may not use this file except in compliance with the License.\n",
              "// You may obtain a copy of the License at\n",
              "//\n",
              "//      http://www.apache.org/licenses/LICENSE-2.0\n",
              "//\n",
              "// Unless required by applicable law or agreed to in writing, software\n",
              "// distributed under the License is distributed on an \"AS IS\" BASIS,\n",
              "// WITHOUT WARRANTIES OR CONDITIONS OF ANY KIND, either express or implied.\n",
              "// See the License for the specific language governing permissions and\n",
              "// limitations under the License.\n",
              "\n",
              "/**\n",
              " * @fileoverview Helpers for google.colab Python module.\n",
              " */\n",
              "(function(scope) {\n",
              "function span(text, styleAttributes = {}) {\n",
              "  const element = document.createElement('span');\n",
              "  element.textContent = text;\n",
              "  for (const key of Object.keys(styleAttributes)) {\n",
              "    element.style[key] = styleAttributes[key];\n",
              "  }\n",
              "  return element;\n",
              "}\n",
              "\n",
              "// Max number of bytes which will be uploaded at a time.\n",
              "const MAX_PAYLOAD_SIZE = 100 * 1024;\n",
              "\n",
              "function _uploadFiles(inputId, outputId) {\n",
              "  const steps = uploadFilesStep(inputId, outputId);\n",
              "  const outputElement = document.getElementById(outputId);\n",
              "  // Cache steps on the outputElement to make it available for the next call\n",
              "  // to uploadFilesContinue from Python.\n",
              "  outputElement.steps = steps;\n",
              "\n",
              "  return _uploadFilesContinue(outputId);\n",
              "}\n",
              "\n",
              "// This is roughly an async generator (not supported in the browser yet),\n",
              "// where there are multiple asynchronous steps and the Python side is going\n",
              "// to poll for completion of each step.\n",
              "// This uses a Promise to block the python side on completion of each step,\n",
              "// then passes the result of the previous step as the input to the next step.\n",
              "function _uploadFilesContinue(outputId) {\n",
              "  const outputElement = document.getElementById(outputId);\n",
              "  const steps = outputElement.steps;\n",
              "\n",
              "  const next = steps.next(outputElement.lastPromiseValue);\n",
              "  return Promise.resolve(next.value.promise).then((value) => {\n",
              "    // Cache the last promise value to make it available to the next\n",
              "    // step of the generator.\n",
              "    outputElement.lastPromiseValue = value;\n",
              "    return next.value.response;\n",
              "  });\n",
              "}\n",
              "\n",
              "/**\n",
              " * Generator function which is called between each async step of the upload\n",
              " * process.\n",
              " * @param {string} inputId Element ID of the input file picker element.\n",
              " * @param {string} outputId Element ID of the output display.\n",
              " * @return {!Iterable<!Object>} Iterable of next steps.\n",
              " */\n",
              "function* uploadFilesStep(inputId, outputId) {\n",
              "  const inputElement = document.getElementById(inputId);\n",
              "  inputElement.disabled = false;\n",
              "\n",
              "  const outputElement = document.getElementById(outputId);\n",
              "  outputElement.innerHTML = '';\n",
              "\n",
              "  const pickedPromise = new Promise((resolve) => {\n",
              "    inputElement.addEventListener('change', (e) => {\n",
              "      resolve(e.target.files);\n",
              "    });\n",
              "  });\n",
              "\n",
              "  const cancel = document.createElement('button');\n",
              "  inputElement.parentElement.appendChild(cancel);\n",
              "  cancel.textContent = 'Cancel upload';\n",
              "  const cancelPromise = new Promise((resolve) => {\n",
              "    cancel.onclick = () => {\n",
              "      resolve(null);\n",
              "    };\n",
              "  });\n",
              "\n",
              "  // Wait for the user to pick the files.\n",
              "  const files = yield {\n",
              "    promise: Promise.race([pickedPromise, cancelPromise]),\n",
              "    response: {\n",
              "      action: 'starting',\n",
              "    }\n",
              "  };\n",
              "\n",
              "  cancel.remove();\n",
              "\n",
              "  // Disable the input element since further picks are not allowed.\n",
              "  inputElement.disabled = true;\n",
              "\n",
              "  if (!files) {\n",
              "    return {\n",
              "      response: {\n",
              "        action: 'complete',\n",
              "      }\n",
              "    };\n",
              "  }\n",
              "\n",
              "  for (const file of files) {\n",
              "    const li = document.createElement('li');\n",
              "    li.append(span(file.name, {fontWeight: 'bold'}));\n",
              "    li.append(span(\n",
              "        `(${file.type || 'n/a'}) - ${file.size} bytes, ` +\n",
              "        `last modified: ${\n",
              "            file.lastModifiedDate ? file.lastModifiedDate.toLocaleDateString() :\n",
              "                                    'n/a'} - `));\n",
              "    const percent = span('0% done');\n",
              "    li.appendChild(percent);\n",
              "\n",
              "    outputElement.appendChild(li);\n",
              "\n",
              "    const fileDataPromise = new Promise((resolve) => {\n",
              "      const reader = new FileReader();\n",
              "      reader.onload = (e) => {\n",
              "        resolve(e.target.result);\n",
              "      };\n",
              "      reader.readAsArrayBuffer(file);\n",
              "    });\n",
              "    // Wait for the data to be ready.\n",
              "    let fileData = yield {\n",
              "      promise: fileDataPromise,\n",
              "      response: {\n",
              "        action: 'continue',\n",
              "      }\n",
              "    };\n",
              "\n",
              "    // Use a chunked sending to avoid message size limits. See b/62115660.\n",
              "    let position = 0;\n",
              "    do {\n",
              "      const length = Math.min(fileData.byteLength - position, MAX_PAYLOAD_SIZE);\n",
              "      const chunk = new Uint8Array(fileData, position, length);\n",
              "      position += length;\n",
              "\n",
              "      const base64 = btoa(String.fromCharCode.apply(null, chunk));\n",
              "      yield {\n",
              "        response: {\n",
              "          action: 'append',\n",
              "          file: file.name,\n",
              "          data: base64,\n",
              "        },\n",
              "      };\n",
              "\n",
              "      let percentDone = fileData.byteLength === 0 ?\n",
              "          100 :\n",
              "          Math.round((position / fileData.byteLength) * 100);\n",
              "      percent.textContent = `${percentDone}% done`;\n",
              "\n",
              "    } while (position < fileData.byteLength);\n",
              "  }\n",
              "\n",
              "  // All done.\n",
              "  yield {\n",
              "    response: {\n",
              "      action: 'complete',\n",
              "    }\n",
              "  };\n",
              "}\n",
              "\n",
              "scope.google = scope.google || {};\n",
              "scope.google.colab = scope.google.colab || {};\n",
              "scope.google.colab._files = {\n",
              "  _uploadFiles,\n",
              "  _uploadFilesContinue,\n",
              "};\n",
              "})(self);\n",
              "</script> "
            ]
          },
          "metadata": {}
        },
        {
          "output_type": "stream",
          "name": "stdout",
          "text": [
            "Saving WorldCupMatches.csv to WorldCupMatches (1).csv\n"
          ]
        }
      ]
    },
    {
      "cell_type": "code",
      "source": [
        "df = pd.read_csv('WorldCupMatches.csv') "
      ],
      "metadata": {
        "id": "cF1AjSyAYOW3"
      },
      "execution_count": 135,
      "outputs": []
    },
    {
      "cell_type": "code",
      "source": [
        "df = df.drop_duplicates()\n",
        "df = df[df['Year'].notna()]\n",
        "df.shape#836 filas\n",
        "df.head()"
      ],
      "metadata": {
        "id": "ZQz01rv9w6iQ",
        "colab": {
          "base_uri": "https://localhost:8080/",
          "height": 441
        },
        "outputId": "35a7b76c-f27b-4e30-8871-770bceca6dc4"
      },
      "execution_count": 136,
      "outputs": [
        {
          "output_type": "execute_result",
          "data": {
            "text/plain": [
              "     Year              Datetime    Stage         Stadium         City  \\\n",
              "0  1930.0  13 Jul 1930 - 15:00   Group 1         Pocitos  Montevideo    \n",
              "1  1930.0  13 Jul 1930 - 15:00   Group 4  Parque Central  Montevideo    \n",
              "2  1930.0  14 Jul 1930 - 12:45   Group 2  Parque Central  Montevideo    \n",
              "3  1930.0  14 Jul 1930 - 14:50   Group 3         Pocitos  Montevideo    \n",
              "4  1930.0  15 Jul 1930 - 16:00   Group 1  Parque Central  Montevideo    \n",
              "\n",
              "  Home Team Name  Home Team Goals  Away Team Goals Away Team Name  \\\n",
              "0         France              4.0              1.0         Mexico   \n",
              "1            USA              3.0              0.0        Belgium   \n",
              "2     Yugoslavia              2.0              1.0         Brazil   \n",
              "3        Romania              3.0              1.0           Peru   \n",
              "4      Argentina              1.0              0.0         France   \n",
              "\n",
              "  Win conditions  Attendance  Half-time Home Goals  Half-time Away Goals  \\\n",
              "0                     4444.0                   3.0                   0.0   \n",
              "1                    18346.0                   2.0                   0.0   \n",
              "2                    24059.0                   2.0                   0.0   \n",
              "3                     2549.0                   1.0                   0.0   \n",
              "4                    23409.0                   0.0                   0.0   \n",
              "\n",
              "                  Referee               Assistant 1  \\\n",
              "0  LOMBARDI Domingo (URU)     CRISTOPHE Henry (BEL)   \n",
              "1       MACIAS Jose (ARG)  MATEUCCI Francisco (URU)   \n",
              "2     TEJADA Anibal (URU)   VALLARINO Ricardo (URU)   \n",
              "3   WARNKEN Alberto (CHI)       LANGENUS Jean (BEL)   \n",
              "4     REGO Gilberto (BRA)      SAUCEDO Ulises (BOL)   \n",
              "\n",
              "                  Assistant 2  RoundID  MatchID Home Team Initials  \\\n",
              "0         REGO Gilberto (BRA)    201.0   1096.0                FRA   \n",
              "1       WARNKEN Alberto (CHI)    201.0   1090.0                USA   \n",
              "2         BALWAY Thomas (FRA)    201.0   1093.0                YUG   \n",
              "3    MATEUCCI Francisco (URU)    201.0   1098.0                ROU   \n",
              "4  RADULESCU Constantin (ROU)    201.0   1085.0                ARG   \n",
              "\n",
              "  Away Team Initials  \n",
              "0                MEX  \n",
              "1                BEL  \n",
              "2                BRA  \n",
              "3                PER  \n",
              "4                FRA  "
            ],
            "text/html": [
              "\n",
              "  <div id=\"df-d56e0d66-4efc-43cd-bff4-a640db1eb93f\">\n",
              "    <div class=\"colab-df-container\">\n",
              "      <div>\n",
              "<style scoped>\n",
              "    .dataframe tbody tr th:only-of-type {\n",
              "        vertical-align: middle;\n",
              "    }\n",
              "\n",
              "    .dataframe tbody tr th {\n",
              "        vertical-align: top;\n",
              "    }\n",
              "\n",
              "    .dataframe thead th {\n",
              "        text-align: right;\n",
              "    }\n",
              "</style>\n",
              "<table border=\"1\" class=\"dataframe\">\n",
              "  <thead>\n",
              "    <tr style=\"text-align: right;\">\n",
              "      <th></th>\n",
              "      <th>Year</th>\n",
              "      <th>Datetime</th>\n",
              "      <th>Stage</th>\n",
              "      <th>Stadium</th>\n",
              "      <th>City</th>\n",
              "      <th>Home Team Name</th>\n",
              "      <th>Home Team Goals</th>\n",
              "      <th>Away Team Goals</th>\n",
              "      <th>Away Team Name</th>\n",
              "      <th>Win conditions</th>\n",
              "      <th>Attendance</th>\n",
              "      <th>Half-time Home Goals</th>\n",
              "      <th>Half-time Away Goals</th>\n",
              "      <th>Referee</th>\n",
              "      <th>Assistant 1</th>\n",
              "      <th>Assistant 2</th>\n",
              "      <th>RoundID</th>\n",
              "      <th>MatchID</th>\n",
              "      <th>Home Team Initials</th>\n",
              "      <th>Away Team Initials</th>\n",
              "    </tr>\n",
              "  </thead>\n",
              "  <tbody>\n",
              "    <tr>\n",
              "      <th>0</th>\n",
              "      <td>1930.0</td>\n",
              "      <td>13 Jul 1930 - 15:00</td>\n",
              "      <td>Group 1</td>\n",
              "      <td>Pocitos</td>\n",
              "      <td>Montevideo</td>\n",
              "      <td>France</td>\n",
              "      <td>4.0</td>\n",
              "      <td>1.0</td>\n",
              "      <td>Mexico</td>\n",
              "      <td></td>\n",
              "      <td>4444.0</td>\n",
              "      <td>3.0</td>\n",
              "      <td>0.0</td>\n",
              "      <td>LOMBARDI Domingo (URU)</td>\n",
              "      <td>CRISTOPHE Henry (BEL)</td>\n",
              "      <td>REGO Gilberto (BRA)</td>\n",
              "      <td>201.0</td>\n",
              "      <td>1096.0</td>\n",
              "      <td>FRA</td>\n",
              "      <td>MEX</td>\n",
              "    </tr>\n",
              "    <tr>\n",
              "      <th>1</th>\n",
              "      <td>1930.0</td>\n",
              "      <td>13 Jul 1930 - 15:00</td>\n",
              "      <td>Group 4</td>\n",
              "      <td>Parque Central</td>\n",
              "      <td>Montevideo</td>\n",
              "      <td>USA</td>\n",
              "      <td>3.0</td>\n",
              "      <td>0.0</td>\n",
              "      <td>Belgium</td>\n",
              "      <td></td>\n",
              "      <td>18346.0</td>\n",
              "      <td>2.0</td>\n",
              "      <td>0.0</td>\n",
              "      <td>MACIAS Jose (ARG)</td>\n",
              "      <td>MATEUCCI Francisco (URU)</td>\n",
              "      <td>WARNKEN Alberto (CHI)</td>\n",
              "      <td>201.0</td>\n",
              "      <td>1090.0</td>\n",
              "      <td>USA</td>\n",
              "      <td>BEL</td>\n",
              "    </tr>\n",
              "    <tr>\n",
              "      <th>2</th>\n",
              "      <td>1930.0</td>\n",
              "      <td>14 Jul 1930 - 12:45</td>\n",
              "      <td>Group 2</td>\n",
              "      <td>Parque Central</td>\n",
              "      <td>Montevideo</td>\n",
              "      <td>Yugoslavia</td>\n",
              "      <td>2.0</td>\n",
              "      <td>1.0</td>\n",
              "      <td>Brazil</td>\n",
              "      <td></td>\n",
              "      <td>24059.0</td>\n",
              "      <td>2.0</td>\n",
              "      <td>0.0</td>\n",
              "      <td>TEJADA Anibal (URU)</td>\n",
              "      <td>VALLARINO Ricardo (URU)</td>\n",
              "      <td>BALWAY Thomas (FRA)</td>\n",
              "      <td>201.0</td>\n",
              "      <td>1093.0</td>\n",
              "      <td>YUG</td>\n",
              "      <td>BRA</td>\n",
              "    </tr>\n",
              "    <tr>\n",
              "      <th>3</th>\n",
              "      <td>1930.0</td>\n",
              "      <td>14 Jul 1930 - 14:50</td>\n",
              "      <td>Group 3</td>\n",
              "      <td>Pocitos</td>\n",
              "      <td>Montevideo</td>\n",
              "      <td>Romania</td>\n",
              "      <td>3.0</td>\n",
              "      <td>1.0</td>\n",
              "      <td>Peru</td>\n",
              "      <td></td>\n",
              "      <td>2549.0</td>\n",
              "      <td>1.0</td>\n",
              "      <td>0.0</td>\n",
              "      <td>WARNKEN Alberto (CHI)</td>\n",
              "      <td>LANGENUS Jean (BEL)</td>\n",
              "      <td>MATEUCCI Francisco (URU)</td>\n",
              "      <td>201.0</td>\n",
              "      <td>1098.0</td>\n",
              "      <td>ROU</td>\n",
              "      <td>PER</td>\n",
              "    </tr>\n",
              "    <tr>\n",
              "      <th>4</th>\n",
              "      <td>1930.0</td>\n",
              "      <td>15 Jul 1930 - 16:00</td>\n",
              "      <td>Group 1</td>\n",
              "      <td>Parque Central</td>\n",
              "      <td>Montevideo</td>\n",
              "      <td>Argentina</td>\n",
              "      <td>1.0</td>\n",
              "      <td>0.0</td>\n",
              "      <td>France</td>\n",
              "      <td></td>\n",
              "      <td>23409.0</td>\n",
              "      <td>0.0</td>\n",
              "      <td>0.0</td>\n",
              "      <td>REGO Gilberto (BRA)</td>\n",
              "      <td>SAUCEDO Ulises (BOL)</td>\n",
              "      <td>RADULESCU Constantin (ROU)</td>\n",
              "      <td>201.0</td>\n",
              "      <td>1085.0</td>\n",
              "      <td>ARG</td>\n",
              "      <td>FRA</td>\n",
              "    </tr>\n",
              "  </tbody>\n",
              "</table>\n",
              "</div>\n",
              "      <button class=\"colab-df-convert\" onclick=\"convertToInteractive('df-d56e0d66-4efc-43cd-bff4-a640db1eb93f')\"\n",
              "              title=\"Convert this dataframe to an interactive table.\"\n",
              "              style=\"display:none;\">\n",
              "        \n",
              "  <svg xmlns=\"http://www.w3.org/2000/svg\" height=\"24px\"viewBox=\"0 0 24 24\"\n",
              "       width=\"24px\">\n",
              "    <path d=\"M0 0h24v24H0V0z\" fill=\"none\"/>\n",
              "    <path d=\"M18.56 5.44l.94 2.06.94-2.06 2.06-.94-2.06-.94-.94-2.06-.94 2.06-2.06.94zm-11 1L8.5 8.5l.94-2.06 2.06-.94-2.06-.94L8.5 2.5l-.94 2.06-2.06.94zm10 10l.94 2.06.94-2.06 2.06-.94-2.06-.94-.94-2.06-.94 2.06-2.06.94z\"/><path d=\"M17.41 7.96l-1.37-1.37c-.4-.4-.92-.59-1.43-.59-.52 0-1.04.2-1.43.59L10.3 9.45l-7.72 7.72c-.78.78-.78 2.05 0 2.83L4 21.41c.39.39.9.59 1.41.59.51 0 1.02-.2 1.41-.59l7.78-7.78 2.81-2.81c.8-.78.8-2.07 0-2.86zM5.41 20L4 18.59l7.72-7.72 1.47 1.35L5.41 20z\"/>\n",
              "  </svg>\n",
              "      </button>\n",
              "      \n",
              "  <style>\n",
              "    .colab-df-container {\n",
              "      display:flex;\n",
              "      flex-wrap:wrap;\n",
              "      gap: 12px;\n",
              "    }\n",
              "\n",
              "    .colab-df-convert {\n",
              "      background-color: #E8F0FE;\n",
              "      border: none;\n",
              "      border-radius: 50%;\n",
              "      cursor: pointer;\n",
              "      display: none;\n",
              "      fill: #1967D2;\n",
              "      height: 32px;\n",
              "      padding: 0 0 0 0;\n",
              "      width: 32px;\n",
              "    }\n",
              "\n",
              "    .colab-df-convert:hover {\n",
              "      background-color: #E2EBFA;\n",
              "      box-shadow: 0px 1px 2px rgba(60, 64, 67, 0.3), 0px 1px 3px 1px rgba(60, 64, 67, 0.15);\n",
              "      fill: #174EA6;\n",
              "    }\n",
              "\n",
              "    [theme=dark] .colab-df-convert {\n",
              "      background-color: #3B4455;\n",
              "      fill: #D2E3FC;\n",
              "    }\n",
              "\n",
              "    [theme=dark] .colab-df-convert:hover {\n",
              "      background-color: #434B5C;\n",
              "      box-shadow: 0px 1px 3px 1px rgba(0, 0, 0, 0.15);\n",
              "      filter: drop-shadow(0px 1px 2px rgba(0, 0, 0, 0.3));\n",
              "      fill: #FFFFFF;\n",
              "    }\n",
              "  </style>\n",
              "\n",
              "      <script>\n",
              "        const buttonEl =\n",
              "          document.querySelector('#df-d56e0d66-4efc-43cd-bff4-a640db1eb93f button.colab-df-convert');\n",
              "        buttonEl.style.display =\n",
              "          google.colab.kernel.accessAllowed ? 'block' : 'none';\n",
              "\n",
              "        async function convertToInteractive(key) {\n",
              "          const element = document.querySelector('#df-d56e0d66-4efc-43cd-bff4-a640db1eb93f');\n",
              "          const dataTable =\n",
              "            await google.colab.kernel.invokeFunction('convertToInteractive',\n",
              "                                                     [key], {});\n",
              "          if (!dataTable) return;\n",
              "\n",
              "          const docLinkHtml = 'Like what you see? Visit the ' +\n",
              "            '<a target=\"_blank\" href=https://colab.research.google.com/notebooks/data_table.ipynb>data table notebook</a>'\n",
              "            + ' to learn more about interactive tables.';\n",
              "          element.innerHTML = '';\n",
              "          dataTable['output_type'] = 'display_data';\n",
              "          await google.colab.output.renderOutput(dataTable, element);\n",
              "          const docLink = document.createElement('div');\n",
              "          docLink.innerHTML = docLinkHtml;\n",
              "          element.appendChild(docLink);\n",
              "        }\n",
              "      </script>\n",
              "    </div>\n",
              "  </div>\n",
              "  "
            ]
          },
          "metadata": {},
          "execution_count": 136
        }
      ]
    },
    {
      "cell_type": "code",
      "source": [
        "df.columns"
      ],
      "metadata": {
        "id": "Bwr8awgBZW6A"
      },
      "execution_count": null,
      "outputs": []
    },
    {
      "cell_type": "code",
      "source": [
        "df.info()"
      ],
      "metadata": {
        "id": "uf58SFGfZdIq"
      },
      "execution_count": null,
      "outputs": []
    },
    {
      "cell_type": "code",
      "source": [
        "round(df.describe()) #Estadísticas"
      ],
      "metadata": {
        "id": "zGM8gA5TZpPt"
      },
      "execution_count": null,
      "outputs": []
    },
    {
      "cell_type": "markdown",
      "source": [
        "## ▶*Problem 1*\n",
        "Obtenga la cantidad total de goles en los mundiales del año:"
      ],
      "metadata": {
        "id": "KBsV7yJsbKEd"
      }
    },
    {
      "cell_type": "code",
      "source": [
        "total_goals= df['Home Team Goals'] + df['Away Team Goals']\n",
        "df = df.assign(total_goals=total_goals)\n",
        "print(df. iloc[:,-1:])"
      ],
      "metadata": {
        "colab": {
          "base_uri": "https://localhost:8080/"
        },
        "id": "J9sSXG04bRyD",
        "outputId": "6366593b-3099-414f-efb4-ddd47a4b0790"
      },
      "execution_count": 137,
      "outputs": [
        {
          "output_type": "stream",
          "name": "stdout",
          "text": [
            "     total_goals\n",
            "0            5.0\n",
            "1            3.0\n",
            "2            3.0\n",
            "3            4.0\n",
            "4            1.0\n",
            "..           ...\n",
            "831          1.0\n",
            "832          3.0\n",
            "833          2.0\n",
            "834          1.0\n",
            "835          3.0\n",
            "\n",
            "[836 rows x 1 columns]\n"
          ]
        }
      ]
    },
    {
      "cell_type": "code",
      "source": [
        "goals_78=sum(df[df['Year'] == 1978]['total_goals'])\n",
        "goals_78\n",
        "print(\"la cantidad total de goles en el mundial del año 1978 fue:\", goals_78 )"
      ],
      "metadata": {
        "colab": {
          "base_uri": "https://localhost:8080/"
        },
        "id": "5akUdNlWt0im",
        "outputId": "f62305ac-e984-45c7-d896-a88d04b3ef9e"
      },
      "execution_count": null,
      "outputs": [
        {
          "output_type": "stream",
          "name": "stdout",
          "text": [
            "la cantidad total de goles en el mundial del año 1978 fue: 102.0\n"
          ]
        }
      ]
    },
    {
      "cell_type": "code",
      "source": [
        "goals_86=sum(df[df['Year'] == 1986]['total_goals'])\n",
        "goals_86\n",
        "print(\"la cantidad total de goles en el mundial del año 1986 fue:\", goals_86 )"
      ],
      "metadata": {
        "colab": {
          "base_uri": "https://localhost:8080/"
        },
        "id": "Lv-ftJg85nnd",
        "outputId": "b061da27-64ce-42bc-9f27-656b97736239"
      },
      "execution_count": null,
      "outputs": [
        {
          "output_type": "stream",
          "name": "stdout",
          "text": [
            "la cantidad total de goles en el mundial del año 1986 fue: 132.0\n"
          ]
        }
      ]
    },
    {
      "cell_type": "code",
      "source": [
        "goals_90=sum(df[df['Year'] == 1990]['total_goals'])\n",
        "goals_90\n",
        "print(\"la cantidad total de goles en el mundial del año 1990 fue:\", goals_90 )"
      ],
      "metadata": {
        "colab": {
          "base_uri": "https://localhost:8080/"
        },
        "id": "_23Tujbl5tj6",
        "outputId": "1c2e64b0-53d5-458f-9ba5-ac6c5ed140a7"
      },
      "execution_count": null,
      "outputs": [
        {
          "output_type": "stream",
          "name": "stdout",
          "text": [
            "la cantidad total de goles en el mundial del año 1990 fue: 115.0\n"
          ]
        }
      ]
    },
    {
      "cell_type": "markdown",
      "source": [
        "# ▶*Problem 2:*\n",
        " Obtenga la cantidad de goles anotados por Argentina entre 1998 y 2010, inclusive.\n",
        "¿Cuántos fueron de ’local’ (home) y cuántos de ’visitante’ (away)?\n"
      ],
      "metadata": {
        "id": "P1fhdOmu7M_J"
      }
    },
    {
      "cell_type": "code",
      "source": [
        "\n",
        "year_range_query = (df['Year'] >= 1998) & (df['Year'] <= 2010)\n",
        "wcp = df[year_range_query]\n",
        "arg_local_goals = sum(wcp[wcp['Home Team Name'] == 'Argentina']['Home Team Goals'])\n",
        "arg_away_goals = sum(wcp[wcp['Away Team Name'] == 'Argentina']['Away Team Goals'])\n",
        "total_arg_goals = arg_local_goals + arg_away_goals\n",
        "\n",
        "print('La cantidad de goles anotados por Argentina entre 1998 y 2010 fue de:',total_arg_goals, '. Los goles de local fueron',arg_local_goals , 'y los goles de visitante fueron' , arg_away_goals )\n"
      ],
      "metadata": {
        "colab": {
          "base_uri": "https://localhost:8080/"
        },
        "id": "KVLgKdsp9KOI",
        "outputId": "83ce3252-3073-40b7-c5f7-b23a4b3047dc"
      },
      "execution_count": null,
      "outputs": [
        {
          "output_type": "stream",
          "name": "stdout",
          "text": [
            "La cantidad de goles anotados por Argentina entre 1998 y 2010 fue de: 33.0 . Los goles de local fueron 28.0 y los goles de visitante fueron 5.0\n"
          ]
        }
      ]
    },
    {
      "cell_type": "markdown",
      "source": [
        "# ▶ Problem 3\n",
        "¿Cuál de los siguientes países jugó más mundiales: Brasil, Inglaterra o Francia? Indique\n",
        "el total de veces que jugó cada uno.\n"
      ],
      "metadata": {
        "id": "Ruor9q5L60WN"
      }
    },
    {
      "cell_type": "code",
      "source": [
        "#Recuento de mundiales que jugó Brasil\n",
        "bra_matches_home = (df['Home Team Name'] == 'Brazil')\n",
        "bra_matches_away = (df['Away Team Name'] == 'Brazil')\n",
        "bmh = df[bra_matches_home]\n",
        "bma = df[bra_matches_away]\n",
        "bra_cups_home = bmh[['Year','Home Team Name']]\n",
        "bra_cups_home = bra_cups_home.drop_duplicates()\n",
        "bra_cups_away = bma[['Year', 'Away Team Name']]\n",
        "bra_cups_away = bra_cups_home.drop_duplicates()\n",
        "bra_cups = pd.merge(bra_cups_home,bra_cups_away,how='outer')\n",
        "total_bra_cups = bra_cups.count()['Year']"
      ],
      "metadata": {
        "id": "mvNqwYwFAf2G"
      },
      "execution_count": null,
      "outputs": []
    },
    {
      "cell_type": "code",
      "source": [
        "#Recuento de mundiales que jugó Inglaterra\n",
        "eng_matches_home = (df['Home Team Name'] == 'England')\n",
        "eng_matches_away = (df['Away Team Name'] == 'England')\n",
        "emh = df[eng_matches_home]\n",
        "ema = df[eng_matches_away]\n",
        "eng_cups_home = emh[['Year','Home Team Name']]\n",
        "eng_cups_home = eng_cups_home.drop_duplicates()\n",
        "eng_cups_away = ema[['Year', 'Away Team Name']]\n",
        "eng_cups_away = eng_cups_home.drop_duplicates()\n",
        "eng_cups = pd.merge(eng_cups_home,eng_cups_away,how='outer')\n",
        "total_eng_cups = eng_cups.count()['Year']"
      ],
      "metadata": {
        "id": "nKY1woQuAnwm"
      },
      "execution_count": null,
      "outputs": []
    },
    {
      "cell_type": "code",
      "source": [
        "#Recuento de mundiales que jugó Francia\n",
        "fra_matches_home = (df['Home Team Name'] == 'France')\n",
        "fra_matches_away = (df['Away Team Name'] == 'France')\n",
        "fmh = df[fra_matches_home]\n",
        "fma = df[fra_matches_away]\n",
        "fra_cups_home = fmh[['Year','Home Team Name']]\n",
        "fra_cups_home = fra_cups_home.drop_duplicates()\n",
        "fra_cups_away = fma[['Year', 'Away Team Name']]\n",
        "fra_cups_away = fra_cups_home.drop_duplicates()\n",
        "fra_cups = pd.merge(fra_cups_home,fra_cups_away,how='outer')\n",
        "total_fra_cups = fra_cups.count()['Year']"
      ],
      "metadata": {
        "id": "4UwIy8zABOZj"
      },
      "execution_count": null,
      "outputs": []
    },
    {
      "cell_type": "code",
      "source": [
        "if total_fra_cups > total_eng_cups :\n",
        "  print('El país que jugó más mundiales fue Francia con',total_fra_cups,'- Brasil jugó',total_bra_cups,'- Inglaterra jugó',total_eng_cups)\n",
        "elif total_eng_cups > total_bra_cups :\n",
        "    print('El país que jugó más mundiales fue Inglaterra con',total_eng_cups,'- Brasil jugó',total_bra_cups,'- Francia jugó',total_fra_cups)\n",
        "else :\n",
        "      print('El país que jugó más mundiales fue Brasil con',total_bra_cups,'- Francia jugó',total_fra_cups,'- Inglaterra jugó',total_eng_cups)"
      ],
      "metadata": {
        "colab": {
          "base_uri": "https://localhost:8080/"
        },
        "id": "4fITUC81TGYq",
        "outputId": "cb63c97a-ae95-468d-b37e-80774575fe65"
      },
      "execution_count": null,
      "outputs": [
        {
          "output_type": "stream",
          "name": "stdout",
          "text": [
            "El país que jugó más mundiales fue Brasil con 19 - Francia jugó 13 - Inglaterra jugó 14\n"
          ]
        }
      ]
    },
    {
      "cell_type": "markdown",
      "source": [
        "# ▶ Problem 4\n",
        "Calcule el promedio, la mediana y el desvío de los goles anotados por equipos ’locales’ (home) entre los años 2006 y 2014, inclusive. Grafique un histograma con la distribución de dicha variable."
      ],
      "metadata": {
        "id": "W1xevIdBPNTx"
      }
    },
    {
      "cell_type": "code",
      "source": [
        "year_range = (df['Year'] >= 2006) & (df['Year'] <= 2014) #192 partidos\n",
        "htg = df[year_range]\n",
        "home_team_goals = htg[['Year','Home Team Goals']]\n",
        "mean_htg = round(np.mean(htg['Home Team Goals']),4)\n",
        "print('El promedio de goles anotados por equipos \"locales\" fue de:',mean_htg)\n",
        "\n",
        "\n",
        "#otra forma\n",
        "#total_years = year_range.sum()\n",
        "#home_team_goals = sum(htg['Home Team Goals'])  #243 goles de local\n",
        "#mean_home_team_goals = home_team_goals/total_years\n",
        "#print('El promedio de goles anotados por equipos \"locales\" fue de:',mean_home_team_goals)\n",
        "#mean_home_team_goals = htg.mean(htg['Home Team Goals'])\n"
      ],
      "metadata": {
        "colab": {
          "base_uri": "https://localhost:8080/"
        },
        "id": "KhVshqGwPMcT",
        "outputId": "4d45b7f0-9b4b-4cbe-90a1-d2e770cc55ef"
      },
      "execution_count": null,
      "outputs": [
        {
          "output_type": "stream",
          "name": "stdout",
          "text": [
            "El promedio de goles anotados por equipos \"locales\" fue de: 1.2656\n"
          ]
        }
      ]
    },
    {
      "cell_type": "code",
      "source": [
        "median_htg = np.median(htg['Home Team Goals'])\n",
        "print('La mediana de goles anotados por equipos \"locales\" fue de:',median_htg)"
      ],
      "metadata": {
        "colab": {
          "base_uri": "https://localhost:8080/"
        },
        "id": "y6TIBeKtnL5C",
        "outputId": "d2896808-949a-4746-bd62-5e9f3809b7b2"
      },
      "execution_count": null,
      "outputs": [
        {
          "output_type": "stream",
          "name": "stdout",
          "text": [
            "La mediana de goles anotados por equipos \"locales\" fue de: 1.0\n"
          ]
        }
      ]
    },
    {
      "cell_type": "code",
      "source": [
        "std_htg = round(np.std(htg['Home Team Goals']),4)\n",
        "print('El desvío de goles anotados por equipos \"locales\" fue de:',std_htg)"
      ],
      "metadata": {
        "colab": {
          "base_uri": "https://localhost:8080/"
        },
        "id": "ChBXFFC_h9OD",
        "outputId": "912cf640-002f-485a-fe00-334b2496b016"
      },
      "execution_count": null,
      "outputs": [
        {
          "output_type": "stream",
          "name": "stdout",
          "text": [
            "El desvío de goles anotados por equipos \"locales\" fue de: 1.2107\n"
          ]
        }
      ]
    },
    {
      "cell_type": "code",
      "source": [
        "params = [(mean_htg, std_htg)]\n",
        "\n",
        "\n",
        "for mu, sigma in params:\n",
        "    sn.distplot(np.random.normal(mu, sigma, 1000), hist = False, kde = True,\n",
        "                 kde_kws = {'linewidth': 2})\n",
        "    \n",
        "plt.legend(prop={'size': 8}, title = 'Parámetros')\n",
        "plt.xlabel('Valores')\n",
        "plt.ylabel('Densidad')\n",
        "plt.legend(['Goles por locales entre 2006 y 2014'])\n",
        "plt.show()"
      ],
      "metadata": {
        "colab": {
          "base_uri": "https://localhost:8080/",
          "height": 378
        },
        "id": "urQGfqya9MLH",
        "outputId": "f92e93f9-0ebc-4bcc-84a9-f5bc60f6cf84"
      },
      "execution_count": null,
      "outputs": [
        {
          "output_type": "stream",
          "name": "stderr",
          "text": [
            "WARNING:matplotlib.legend:No handles with labels found to put in legend.\n"
          ]
        },
        {
          "output_type": "display_data",
          "data": {
            "text/plain": [
              "<Figure size 576x396 with 1 Axes>"
            ],
            "image/png": "[encoded data removed]"
          },
          "metadata": {}
        }
      ]
    },
    {
      "cell_type": "code",
      "source": [
        "#Para una funcion de distribucion binomial B(n,p) con n cantidad de goles y probabilidad de cada gol\n",
        "n = home_team_goals['Home Team Goals'].max()\n",
        "Freq = pd.crosstab(index=home_team_goals['Home Team Goals'], columns='count')\n",
        "Freq2 = Freq/Freq.sum()\n",
        "#Freq2 = Freq2.rename(columns={'count':'fi'})\n",
        "Freq3 = Freq2.cumsum()\n",
        "Freq3 = Freq3.rename(columns={'count':'Fi'})\n",
        "\n",
        "#Freq2 = Freq2.reset_index()\n",
        "Freq2.hist()\n",
        "#Freq3\n",
        "#Frequency = pd.concat([Freq2,Freq3],axis=1)\n",
        "#Frequency.rename(columns={'col_0':'Year'})\n",
        "plt.style.use('seaborn')"
      ],
      "metadata": {
        "colab": {
          "base_uri": "https://localhost:8080/",
          "height": 280
        },
        "id": "UGR8wVvu6tUX",
        "outputId": "0b2ce301-16d8-4be5-f95e-e6b753250e53"
      },
      "execution_count": null,
      "outputs": [
        {
          "output_type": "display_data",
          "data": {
            "text/plain": [
              "<Figure size 432x288 with 1 Axes>"
            ],
            "image/png": "[encoded data removed]"
          },
          "metadata": {
            "needs_background": "light"
          }
        }
      ]
    },
    {
      "cell_type": "code",
      "source": [
        "#plt.hist(home_team_goals['Home Team Goals'])\n",
        "ax = Freq2.hist(Freq2['Home Team Goals'], bins=7, grid=False, figsize=(10,8), color='#86bf91', rwidth=0.9)\n",
        "#histogram\n",
        "ax = ax[0]\n",
        "for x in ax:\n",
        "\n",
        "    # Despine\n",
        "    x.spines['right'].set_visible(False)\n",
        "    x.spines['top'].set_visible(False)\n",
        "    x.spines['left'].set_visible(False)\n",
        "    # Remove title\n",
        "    x.set_title(\"\")\n",
        "\n",
        "    # Set x-axis label\n",
        "    x.set_xlabel(\"Home Team Goals\", labelpad=20, weight='bold', size=12)\n",
        "\n",
        "    # Set y-axis label\n",
        "    x.set_ylabel(\"Quantity\", labelpad=20, weight='bold', size=12)\n",
        "\n",
        "    # Format y-axis label\n",
        "    #x.yaxis.set_major_formatter(StrMethodFormatter('{x:,g}'))"
      ],
      "metadata": {
        "id": "6EM785dA_6e6",
        "colab": {
          "base_uri": "https://localhost:8080/",
          "height": 502
        },
        "outputId": "c67e3df0-d4c5-4661-f477-1d7dd6152f4b"
      },
      "execution_count": null,
      "outputs": [
        {
          "output_type": "error",
          "ename": "KeyError",
          "evalue": "ignored",
          "traceback": [
            "\u001b[0;31m---------------------------------------------------------------------------\u001b[0m",
            "\u001b[0;31mKeyError\u001b[0m                                  Traceback (most recent call last)",
            "\u001b[0;32m/usr/local/lib/python3.7/dist-packages/pandas/core/indexes/base.py\u001b[0m in \u001b[0;36mget_loc\u001b[0;34m(self, key, method, tolerance)\u001b[0m\n\u001b[1;32m   3360\u001b[0m             \u001b[0;32mtry\u001b[0m\u001b[0;34m:\u001b[0m\u001b[0;34m\u001b[0m\u001b[0;34m\u001b[0m\u001b[0m\n\u001b[0;32m-> 3361\u001b[0;31m                 \u001b[0;32mreturn\u001b[0m \u001b[0mself\u001b[0m\u001b[0;34m.\u001b[0m\u001b[0m_engine\u001b[0m\u001b[0;34m.\u001b[0m\u001b[0mget_loc\u001b[0m\u001b[0;34m(\u001b[0m\u001b[0mcasted_key\u001b[0m\u001b[0;34m)\u001b[0m\u001b[0;34m\u001b[0m\u001b[0;34m\u001b[0m\u001b[0m\n\u001b[0m\u001b[1;32m   3362\u001b[0m             \u001b[0;32mexcept\u001b[0m \u001b[0mKeyError\u001b[0m \u001b[0;32mas\u001b[0m \u001b[0merr\u001b[0m\u001b[0;34m:\u001b[0m\u001b[0;34m\u001b[0m\u001b[0;34m\u001b[0m\u001b[0m\n",
            "\u001b[0;32m/usr/local/lib/python3.7/dist-packages/pandas/_libs/index.pyx\u001b[0m in \u001b[0;36mpandas._libs.index.IndexEngine.get_loc\u001b[0;34m()\u001b[0m\n",
            "\u001b[0;32m/usr/local/lib/python3.7/dist-packages/pandas/_libs/index.pyx\u001b[0m in \u001b[0;36mpandas._libs.index.IndexEngine.get_loc\u001b[0;34m()\u001b[0m\n",
            "\u001b[0;32mpandas/_libs/hashtable_class_helper.pxi\u001b[0m in \u001b[0;36mpandas._libs.hashtable.PyObjectHashTable.get_item\u001b[0;34m()\u001b[0m\n",
            "\u001b[0;32mpandas/_libs/hashtable_class_helper.pxi\u001b[0m in \u001b[0;36mpandas._libs.hashtable.PyObjectHashTable.get_item\u001b[0;34m()\u001b[0m\n",
            "\u001b[0;31mKeyError\u001b[0m: 'Home Team Goals'",
            "\nThe above exception was the direct cause of the following exception:\n",
            "\u001b[0;31mKeyError\u001b[0m                                  Traceback (most recent call last)",
            "\u001b[0;32m<ipython-input-10-a1a84e2fb46c>\u001b[0m in \u001b[0;36m<module>\u001b[0;34m\u001b[0m\n\u001b[1;32m      1\u001b[0m \u001b[0;31m#plt.hist(home_team_goals['Home Team Goals'])\u001b[0m\u001b[0;34m\u001b[0m\u001b[0;34m\u001b[0m\u001b[0;34m\u001b[0m\u001b[0m\n\u001b[0;32m----> 2\u001b[0;31m \u001b[0max\u001b[0m \u001b[0;34m=\u001b[0m \u001b[0mFreq2\u001b[0m\u001b[0;34m.\u001b[0m\u001b[0mhist\u001b[0m\u001b[0;34m(\u001b[0m\u001b[0mFreq2\u001b[0m\u001b[0;34m[\u001b[0m\u001b[0;34m'Home Team Goals'\u001b[0m\u001b[0;34m]\u001b[0m\u001b[0;34m,\u001b[0m \u001b[0mbins\u001b[0m\u001b[0;34m=\u001b[0m\u001b[0;36m7\u001b[0m\u001b[0;34m,\u001b[0m \u001b[0mgrid\u001b[0m\u001b[0;34m=\u001b[0m\u001b[0;32mFalse\u001b[0m\u001b[0;34m,\u001b[0m \u001b[0mfigsize\u001b[0m\u001b[0;34m=\u001b[0m\u001b[0;34m(\u001b[0m\u001b[0;36m10\u001b[0m\u001b[0;34m,\u001b[0m\u001b[0;36m8\u001b[0m\u001b[0;34m)\u001b[0m\u001b[0;34m,\u001b[0m \u001b[0mcolor\u001b[0m\u001b[0;34m=\u001b[0m\u001b[0;34m'#86bf91'\u001b[0m\u001b[0;34m,\u001b[0m \u001b[0mrwidth\u001b[0m\u001b[0;34m=\u001b[0m\u001b[0;36m0.9\u001b[0m\u001b[0;34m)\u001b[0m\u001b[0;34m\u001b[0m\u001b[0;34m\u001b[0m\u001b[0m\n\u001b[0m\u001b[1;32m      3\u001b[0m \u001b[0;31m#histogram\u001b[0m\u001b[0;34m\u001b[0m\u001b[0;34m\u001b[0m\u001b[0;34m\u001b[0m\u001b[0m\n\u001b[1;32m      4\u001b[0m \u001b[0max\u001b[0m \u001b[0;34m=\u001b[0m \u001b[0max\u001b[0m\u001b[0;34m[\u001b[0m\u001b[0;36m0\u001b[0m\u001b[0;34m]\u001b[0m\u001b[0;34m\u001b[0m\u001b[0;34m\u001b[0m\u001b[0m\n\u001b[1;32m      5\u001b[0m \u001b[0;32mfor\u001b[0m \u001b[0mx\u001b[0m \u001b[0;32min\u001b[0m \u001b[0max\u001b[0m\u001b[0;34m:\u001b[0m\u001b[0;34m\u001b[0m\u001b[0;34m\u001b[0m\u001b[0m\n",
            "\u001b[0;32m/usr/local/lib/python3.7/dist-packages/pandas/core/frame.py\u001b[0m in \u001b[0;36m__getitem__\u001b[0;34m(self, key)\u001b[0m\n\u001b[1;32m   3456\u001b[0m             \u001b[0;32mif\u001b[0m \u001b[0mself\u001b[0m\u001b[0;34m.\u001b[0m\u001b[0mcolumns\u001b[0m\u001b[0;34m.\u001b[0m\u001b[0mnlevels\u001b[0m \u001b[0;34m>\u001b[0m \u001b[0;36m1\u001b[0m\u001b[0;34m:\u001b[0m\u001b[0;34m\u001b[0m\u001b[0;34m\u001b[0m\u001b[0m\n\u001b[1;32m   3457\u001b[0m                 \u001b[0;32mreturn\u001b[0m \u001b[0mself\u001b[0m\u001b[0;34m.\u001b[0m\u001b[0m_getitem_multilevel\u001b[0m\u001b[0;34m(\u001b[0m\u001b[0mkey\u001b[0m\u001b[0;34m)\u001b[0m\u001b[0;34m\u001b[0m\u001b[0;34m\u001b[0m\u001b[0m\n\u001b[0;32m-> 3458\u001b[0;31m             \u001b[0mindexer\u001b[0m \u001b[0;34m=\u001b[0m \u001b[0mself\u001b[0m\u001b[0;34m.\u001b[0m\u001b[0mcolumns\u001b[0m\u001b[0;34m.\u001b[0m\u001b[0mget_loc\u001b[0m\u001b[0;34m(\u001b[0m\u001b[0mkey\u001b[0m\u001b[0;34m)\u001b[0m\u001b[0;34m\u001b[0m\u001b[0;34m\u001b[0m\u001b[0m\n\u001b[0m\u001b[1;32m   3459\u001b[0m             \u001b[0;32mif\u001b[0m \u001b[0mis_integer\u001b[0m\u001b[0;34m(\u001b[0m\u001b[0mindexer\u001b[0m\u001b[0;34m)\u001b[0m\u001b[0;34m:\u001b[0m\u001b[0;34m\u001b[0m\u001b[0;34m\u001b[0m\u001b[0m\n\u001b[1;32m   3460\u001b[0m                 \u001b[0mindexer\u001b[0m \u001b[0;34m=\u001b[0m \u001b[0;34m[\u001b[0m\u001b[0mindexer\u001b[0m\u001b[0;34m]\u001b[0m\u001b[0;34m\u001b[0m\u001b[0;34m\u001b[0m\u001b[0m\n",
            "\u001b[0;32m/usr/local/lib/python3.7/dist-packages/pandas/core/indexes/base.py\u001b[0m in \u001b[0;36mget_loc\u001b[0;34m(self, key, method, tolerance)\u001b[0m\n\u001b[1;32m   3361\u001b[0m                 \u001b[0;32mreturn\u001b[0m \u001b[0mself\u001b[0m\u001b[0;34m.\u001b[0m\u001b[0m_engine\u001b[0m\u001b[0;34m.\u001b[0m\u001b[0mget_loc\u001b[0m\u001b[0;34m(\u001b[0m\u001b[0mcasted_key\u001b[0m\u001b[0;34m)\u001b[0m\u001b[0;34m\u001b[0m\u001b[0;34m\u001b[0m\u001b[0m\n\u001b[1;32m   3362\u001b[0m             \u001b[0;32mexcept\u001b[0m \u001b[0mKeyError\u001b[0m \u001b[0;32mas\u001b[0m \u001b[0merr\u001b[0m\u001b[0;34m:\u001b[0m\u001b[0;34m\u001b[0m\u001b[0;34m\u001b[0m\u001b[0m\n\u001b[0;32m-> 3363\u001b[0;31m                 \u001b[0;32mraise\u001b[0m \u001b[0mKeyError\u001b[0m\u001b[0;34m(\u001b[0m\u001b[0mkey\u001b[0m\u001b[0;34m)\u001b[0m \u001b[0;32mfrom\u001b[0m \u001b[0merr\u001b[0m\u001b[0;34m\u001b[0m\u001b[0;34m\u001b[0m\u001b[0m\n\u001b[0m\u001b[1;32m   3364\u001b[0m \u001b[0;34m\u001b[0m\u001b[0m\n\u001b[1;32m   3365\u001b[0m         \u001b[0;32mif\u001b[0m \u001b[0mis_scalar\u001b[0m\u001b[0;34m(\u001b[0m\u001b[0mkey\u001b[0m\u001b[0;34m)\u001b[0m \u001b[0;32mand\u001b[0m \u001b[0misna\u001b[0m\u001b[0;34m(\u001b[0m\u001b[0mkey\u001b[0m\u001b[0;34m)\u001b[0m \u001b[0;32mand\u001b[0m \u001b[0;32mnot\u001b[0m \u001b[0mself\u001b[0m\u001b[0;34m.\u001b[0m\u001b[0mhasnans\u001b[0m\u001b[0;34m:\u001b[0m\u001b[0;34m\u001b[0m\u001b[0;34m\u001b[0m\u001b[0m\n",
            "\u001b[0;31mKeyError\u001b[0m: 'Home Team Goals'"
          ]
        }
      ]
    },
    {
      "cell_type": "code",
      "source": [
        "#plt.hist(home_team_goals['Home Team Goals'])\n",
        "ax = home_team_goals.hist(column='Home Team Goals', bins=7, grid=False, figsize=(3,3), color='#86bf91', rwidth=0.9)\n",
        "#histogram\n",
        "ax = ax[0]\n",
        "for x in ax:\n",
        "\n",
        "    # Despine\n",
        "    x.spines['right'].set_visible(False)\n",
        "    x.spines['top'].set_visible(False)\n",
        "    x.spines['left'].set_visible(False)\n",
        "    # Remove title\n",
        "    x.set_title(\"\")\n",
        "\n",
        "    # Set x-axis label\n",
        "    x.set_xlabel(\"Home Team Goals\", labelpad=20, weight='bold', size=12)\n",
        "\n",
        "    # Set y-axis label\n",
        "    x.set_ylabel(\"Quantity\", labelpad=20, weight='bold', size=12)\n",
        "\n",
        "    # Format y-axis label\n",
        "    #x.yaxis.set_major_formatter(StrMethodFormatter('{x:,g}'))"
      ],
      "metadata": {
        "colab": {
          "base_uri": "https://localhost:8080/",
          "height": 243
        },
        "id": "YiosTObsoVin",
        "outputId": "7df72d2b-0b4b-4969-f049-c656c6e9e86f"
      },
      "execution_count": null,
      "outputs": [
        {
          "output_type": "display_data",
          "data": {
            "text/plain": [
              "<Figure size 216x216 with 1 Axes>"
            ],
            "image/png": "[encoded data removed]"
          },
          "metadata": {}
        }
      ]
    },
    {
      "cell_type": "markdown",
      "source": [
        "#*Problem 5*\n",
        "\n",
        "Obtenga la media y la varianza de la asistencia de cada partido (attendance) entre los\n",
        "años 1930 y 1960. Realice lo mismo para el período 1980 a 2010. Compare ambas\n",
        "distribuciones mediante un gráfico donde se vean dichas distribuciones sobre el mismo\n",
        "eje.\n"
      ],
      "metadata": {
        "id": "JJ8nFGUdRl6v"
      }
    },
    {
      "cell_type": "code",
      "source": [
        "year_range_query2 = (df['Year'] >= 1930) & (df['Year'] <= 1960)\n",
        "atte=df[year_range_query2]\n",
        "attendance = sum(atte['Attendance'])\n",
        "attendance_mean1 = attendance/len(atte['Attendance'])\n",
        "print('La media de la asistencia de cada partido entre 1930 y 1960 es:' , attendance_mean1)"
      ],
      "metadata": {
        "id": "lg1vn5WpRw19",
        "colab": {
          "base_uri": "https://localhost:8080/"
        },
        "outputId": "4219f4b2-d811-4b50-98a8-415f730cae45"
      },
      "execution_count": null,
      "outputs": [
        {
          "output_type": "stream",
          "name": "stdout",
          "text": [
            "La media de la asistencia de cada partido entre 1930 y 1960 es: 29139.058823529413\n"
          ]
        }
      ]
    },
    {
      "cell_type": "code",
      "source": [
        "attendance_var1 = statistics.variance(atte['Attendance'])\n",
        "print('La varianza de la asistencia de cada partido entre 1930 y 1960 es:' , attendance_var1)"
      ],
      "metadata": {
        "colab": {
          "base_uri": "https://localhost:8080/"
        },
        "id": "3DLPjychdXbj",
        "outputId": "4588dcce-35ec-45a9-ac77-b66525f9f2f0"
      },
      "execution_count": null,
      "outputs": [
        {
          "output_type": "stream",
          "name": "stdout",
          "text": [
            "La varianza de la asistencia de cada partido entre 1930 y 1960 es: 773630510.0261438\n"
          ]
        }
      ]
    },
    {
      "cell_type": "code",
      "source": [
        "year_range_query2 = (df['Year'] >= 1980) & (df['Year'] <= 2010)\n",
        "atte=df[year_range_query2]\n",
        "attendance = sum(atte['Attendance'])\n",
        "attendance_mean2 = attendance/len(atte['Attendance'])\n",
        "print('La media de la asistencia de cada partido entre 1980 y 2010 es:' , attendance_mean2)"
      ],
      "metadata": {
        "colab": {
          "base_uri": "https://localhost:8080/"
        },
        "outputId": "8d47d003-a390-4613-d0dd-f2c7479b6f79",
        "id": "ZGGzN6nEfpC5"
      },
      "execution_count": null,
      "outputs": [
        {
          "output_type": "stream",
          "name": "stdout",
          "text": [
            "La media de la asistencia de cada partido entre 1980 y 2010 es: 48784.69612068965\n"
          ]
        }
      ]
    },
    {
      "cell_type": "code",
      "source": [
        "attendance_var2 = statistics.variance(atte['Attendance'])\n",
        "print('La varianza de la asistencia de cada partido entre 1980 y 2010 es:' , attendance_var2)"
      ],
      "metadata": {
        "colab": {
          "base_uri": "https://localhost:8080/"
        },
        "outputId": "f2fcf6c7-e2f1-4d76-ac68-d47314f4d3b8",
        "id": "dprmbhU2fyYD"
      },
      "execution_count": null,
      "outputs": [
        {
          "output_type": "stream",
          "name": "stdout",
          "text": [
            "La varianza de la asistencia de cada partido entre 1980 y 2010 es: 390216083.0284082\n"
          ]
        }
      ]
    },
    {
      "cell_type": "code",
      "source": [
        "params = [(attendance_mean1, np.sqrt(attendance_var1)),(attendance_mean2, np.sqrt(attendance_var2))]\n",
        "\n",
        "\n",
        "for mu, sigma in params:\n",
        "    sn.distplot(np.random.normal(mu, sigma, 1000), hist = False, kde = True,\n",
        "                 kde_kws = {'linewidth': 2})\n",
        "    \n",
        "plt.legend(prop={'size': 8}, title = 'Parámetros')\n",
        "plt.xlabel('Valores')\n",
        "plt.ylabel('Densidad')\n",
        "plt.legend(['1930-1960', '1980-2010'])\n",
        "plt.show()"
      ],
      "metadata": {
        "id": "MwtmdlAKf9Uf",
        "colab": {
          "base_uri": "https://localhost:8080/",
          "height": 389
        },
        "outputId": "77aee242-2692-4f9a-8392-7285b1b73bec"
      },
      "execution_count": null,
      "outputs": [
        {
          "output_type": "stream",
          "name": "stderr",
          "text": [
            "WARNING:matplotlib.legend:No handles with labels found to put in legend.\n"
          ]
        },
        {
          "output_type": "display_data",
          "data": {
            "text/plain": [
              "<Figure size 576x396 with 1 Axes>"
            ],
            "image/png": "[encoded data removed]"
          },
          "metadata": {}
        }
      ]
    },
    {
      "cell_type": "markdown",
      "source": [
        "# ▶ Problem 6\n",
        "Obtenga cual es el país que:\n",
        "1. más partidos ganó entre 1970 y 1990\n",
        "2. menos partidos ganó entre 2002 y 2010\n",
        "3. anotó la mayor cantidad de goles en el mismo partido entre 1930 y 1950\n",
        "4. más empates ha tenido"
      ],
      "metadata": {
        "id": "2CCiv3X16TqH"
      }
    },
    {
      "cell_type": "code",
      "source": [
        "#más partidos ganó entre 1970 y 1990\n",
        "year_range_query3 = (df['Year'] >= 1970) & (df['Year'] <= 1990)\n",
        "m_w = df[year_range_query3]\n",
        "most_winner = m_w[['Year','Home Team Name','Home Team Goals','Away Team Goals', 'Away Team Name']]\n",
        "\n",
        "home_wins = most_winner.loc[most_winner['Home Team Goals']>most_winner['Away Team Goals']]\n",
        "away_wins = most_winner.loc[most_winner['Away Team Goals']>most_winner['Home Team Goals']]\n",
        "\n",
        "home_wins2 = pd.DataFrame(home_wins['Home Team Name'].value_counts())\n",
        "away_wins2 = pd.DataFrame(away_wins['Away Team Name'].value_counts())\n",
        "\n",
        "win_matches= pd.concat([home_wins2,away_wins2],axis=1)\n",
        "win_matches = win_matches.fillna(0)\n",
        "win_matches = win_matches['Home Team Name'] + win_matches['Away Team Name']\n",
        "win_matches = pd.DataFrame(win_matches).sort_values(0,ascending=False).reset_index()\n",
        "print('El país que más partidos ganó entre 1970 y 1990 fue:', win_matches.iat[0,0],'con',win_matches.iat[0,1],'partidos.')\n"
      ],
      "metadata": {
        "colab": {
          "base_uri": "https://localhost:8080/"
        },
        "id": "4zBUDvAQ6bJ1",
        "outputId": "2e9ece70-fa33-41bb-9fda-5770b0484e4f"
      },
      "execution_count": null,
      "outputs": [
        {
          "output_type": "stream",
          "name": "stdout",
          "text": [
            "El país que más partidos ganó entre 1970 y 1990 fue: Brazil con 24.0 partidos.\n"
          ]
        }
      ]
    },
    {
      "cell_type": "code",
      "source": [
        "#menos partidos ganó entre 2002 y 2010\n",
        "year_range_query4 = (df['Year'] >= 2002) & (df['Year'] <= 2010)\n",
        "l_w = df[year_range_query4]\n",
        "less_winner = l_w[['Year','Home Team Name','Home Team Goals','Away Team Goals', 'Away Team Name']]\n",
        "\n",
        "home_lose = less_winner.loc[less_winner['Home Team Goals'] < less_winner['Away Team Goals']]\n",
        "away_lose = less_winner.loc[less_winner['Away Team Goals'] < less_winner['Home Team Goals']]\n",
        "\n",
        "home_lose2 = pd.DataFrame(home_lose['Home Team Name'].value_counts())\n",
        "away_lose2 = pd.DataFrame(away_lose['Away Team Name'].value_counts())\n",
        "\n",
        "lost_matches= pd.concat([home_lose2,away_lose2],axis=1)\n",
        "lost_matches = lost_matches.fillna(0)\n",
        "lost_matches = lost_matches['Home Team Name'] + lost_matches['Away Team Name']\n",
        "lost_matches = pd.DataFrame(lost_matches).sort_values(0,ascending=False)\n",
        "print('El país que más partidos perdió entre 2002 y 2010 fue:', lost_matches.head(6))"
      ],
      "metadata": {
        "id": "pOzfsbIOeZEM",
        "colab": {
          "base_uri": "https://localhost:8080/"
        },
        "outputId": "360099f0-cf8a-4169-f22e-3e6caaa96a11"
      },
      "execution_count": null,
      "outputs": [
        {
          "output_type": "stream",
          "name": "stdout",
          "text": [
            "El país que más partidos perdió entre 2002 y 2010 fue:                   0\n",
            "Korea Republic  5.0\n",
            "Portugal        5.0\n",
            "Paraguay        5.0\n",
            "Saudi Arabia    5.0\n",
            "Mexico          5.0\n",
            "USA             5.0\n"
          ]
        }
      ]
    },
    {
      "cell_type": "code",
      "source": [
        "#anotó la mayor cantidad de goles en el mismo partido entre 1930 y 1950\n",
        "year_range_query5 = (df['Year'] >= 1930) & (df['Year'] <= 1950)\n",
        "t_s = df[year_range_query5]\n",
        "top_scorer = t_s[['Year','Home Team Name','Home Team Goals','Away Team Goals', 'Away Team Name']]\n",
        "home_top_scorer = top_scorer.sort_values('Home Team Goals',ascending=False)\n",
        "away_top_scorer = top_scorer.sort_values('Away Team Goals',ascending=False)\n",
        "if home_top_scorer.iat[0,2] > away_top_scorer.iat[0,2]:\n",
        "  print('El país que anotó la mayor cantidad de goles en el mismo partido entre 1930 y 1950 fue:',home_top_scorer.iat[0,1],'con',home_top_scorer.iat[0,2],'goles.')\n",
        "else:\n",
        "  print('El país que anotó la mayor cantidad de goles en el mismo partido entre 1930 y 1950 fue:',away_top_scorer.iat[0,4],'con',away_top_scorer.iat[0,3],'goles.')\n"
      ],
      "metadata": {
        "colab": {
          "base_uri": "https://localhost:8080/"
        },
        "id": "pFHxpaaZRbXG",
        "outputId": "70f12a61-f611-4719-e7c4-31edb5e7077d"
      },
      "execution_count": null,
      "outputs": [
        {
          "output_type": "stream",
          "name": "stdout",
          "text": [
            "El país que anotó la mayor cantidad de goles en el mismo partido entre 1930 y 1950 fue: Sweden con 8.0 goles.\n"
          ]
        }
      ]
    },
    {
      "cell_type": "code",
      "source": [
        "#más empates ha tenido\n",
        "ties = df[['Year','Home Team Name','Home Team Goals','Away Team Goals', 'Away Team Name']]\n",
        "top_ties = ties.loc[ties['Home Team Goals'] == ties['Away Team Goals']]\n",
        "top_ties = top_ties.sort_values('Home Team Name')\n",
        "top_ties = top_ties['Home Team Name'].value_counts()\n",
        "top_ties = pd.DataFrame(top_ties).reset_index()\n",
        "print('El país que más empates tuvo a lo largo de todos los mundiales fue:',top_ties.iat[0,0],'con',top_ties.iat[0,1],'partidos empatados.')"
      ],
      "metadata": {
        "colab": {
          "base_uri": "https://localhost:8080/"
        },
        "id": "S6chZKtCWmlf",
        "outputId": "63018ad3-5910-4b90-956e-376ef633f1d2"
      },
      "execution_count": null,
      "outputs": [
        {
          "output_type": "stream",
          "name": "stdout",
          "text": [
            "El país que más empates tuvo a lo largo de todos los mundiales fue: Italy con 14 partidos empatados.\n"
          ]
        }
      ]
    },
    {
      "cell_type": "markdown",
      "source": [
        "# ▶ Problem 7\n",
        "Obtenga el promedio de goles a favor por partido para Argentina y Alemania en el mundial del año 2014\n"
      ],
      "metadata": {
        "id": "zObX6bjKTqT2"
      }
    },
    {
      "cell_type": "code",
      "source": [
        "year_range_query6 = (df['Year'] == 2014) & (df['Home Team Name'] == 'Argentina')\n",
        "year_range_query7 = (df['Year'] == 2014) & (df['Away Team Name'] == 'Argentina')\n",
        "arg = df[year_range_query6]\n",
        "arg2 = df[year_range_query7]\n",
        "arg = arg[['Home Team Name','Home Team Goals','Away Team Goals', 'Away Team Name']]\n",
        "arg2 = arg2[['Home Team Name','Home Team Goals','Away Team Goals', 'Away Team Name']]\n",
        "arg_home = arg['Home Team Goals'].sum()\n",
        "arg_home2 = arg['Home Team Name'].value_counts()\n",
        "arg_away = arg2['Away Team Goals'].sum()\n",
        "arg_away2 = arg2['Away Team Name'].value_counts()\n",
        "arg_goals = arg_away + arg_home\n",
        "arg_goals_mean = pd.DataFrame(arg_goals/(arg_home2+arg_away2)).reset_index()\n",
        "print('Promedio de goles a favor de Argentina en 2014:',arg_goals_mean.iat[0,1])"
      ],
      "metadata": {
        "colab": {
          "base_uri": "https://localhost:8080/"
        },
        "id": "85xskoPRT2kc",
        "outputId": "203cadce-c010-4d2e-da46-4fabc79fd2d1"
      },
      "execution_count": null,
      "outputs": [
        {
          "output_type": "stream",
          "name": "stdout",
          "text": [
            "Promedio de goles a favor de Argentina en 2014: 1.1428571428571428\n"
          ]
        }
      ]
    },
    {
      "cell_type": "code",
      "source": [
        "year_range_query8 = (df['Year'] == 2014) & (df['Home Team Name'] == 'Germany')\n",
        "year_range_query9 = (df['Year'] == 2014) & (df['Away Team Name'] == 'Germany')\n",
        "ger = df[year_range_query8]\n",
        "ger2 = df[year_range_query9]\n",
        "ger = ger[['Home Team Name','Home Team Goals','Away Team Goals', 'Away Team Name']]\n",
        "ger2 = ger2[['Home Team Name','Home Team Goals','Away Team Goals', 'Away Team Name']]\n",
        "ger_home = ger['Home Team Goals'].sum()\n",
        "ger_home2 = ger['Home Team Name'].value_counts()\n",
        "ger_away = ger2['Away Team Goals'].sum()\n",
        "ger_away2 = ger2['Away Team Name'].value_counts()\n",
        "ger_goals = ger_away + ger_home\n",
        "ger_goals_mean = pd.DataFrame(ger_goals/(ger_home2 + ger_away2)).reset_index()\n",
        "print('Promedio de goles a favor de Alemania en 2014:',ger_goals_mean.iat[0,1])"
      ],
      "metadata": {
        "colab": {
          "base_uri": "https://localhost:8080/"
        },
        "id": "ymNWyZNofh6t",
        "outputId": "cdf4eeb1-9402-4bb2-ba4f-e069a7c08b17"
      },
      "execution_count": null,
      "outputs": [
        {
          "output_type": "stream",
          "name": "stdout",
          "text": [
            "Promedio de goles a favor de Alemania en 2014: 2.5714285714285716\n"
          ]
        }
      ]
    },
    {
      "cell_type": "markdown",
      "source": [
        "# ▶ Problem 8\n",
        "\n",
        "Grafique a través de un gráfico de barras los 10 países con más participaciones en\n",
        "mundiales."
      ],
      "metadata": {
        "id": "dDQPO6rSpqBs"
      }
    },
    {
      "cell_type": "code",
      "source": [
        "def participaciones(df, country): \n",
        "  #Esta función también se podría haber utilizado en el problema 3\n",
        "  matches = (df['Home Team Name'] == country) | (df['Away Team Name'] == country) \n",
        "  years = set(df[matches]['Year'])\n",
        "  wcp = len(years)\n",
        "  return wcp\n",
        "\n",
        "x = [(participaciones(df, country), country) for country in (set(df['Home Team Name']) | set(df['Away Team Name']))]\n",
        "x.sort(reverse = True)\n",
        "x = x[:10]\n",
        "x\n"
      ],
      "metadata": {
        "id": "Fe5vR8CVpwyD"
      },
      "execution_count": null,
      "outputs": []
    },
    {
      "cell_type": "code",
      "source": [
        "print(x)\n",
        "ps = [participaciones for (participaciones, country) in x]\n",
        "cs = [country for (participaciones, country) in x]\n",
        "\n",
        "\n",
        "fig, ax = plt.subplots()\n",
        "ax.bar(x=np.arange(len(ps)),\n",
        "       height=ps,\n",
        "       color=\"green\", \n",
        "       align=\"center\",\n",
        "       tick_label=cs)\n",
        "ax.set_ylabel('Participaciones')\n",
        "ax.set_title('Top 10 países con más participaciones')\n",
        "plt.xticks(rotation=90)\n",
        "plt.show()\n"
      ],
      "metadata": {
        "colab": {
          "base_uri": "https://localhost:8080/",
          "height": 358
        },
        "id": "6_6TPv5Jbw02",
        "outputId": "366d9bc3-971c-4fd4-8cc6-1502125449ec"
      },
      "execution_count": null,
      "outputs": [
        {
          "output_type": "stream",
          "name": "stdout",
          "text": [
            "[(20, 'Brazil'), (18, 'Italy'), (16, 'Argentina'), (15, 'Mexico'), (14, 'Spain'), (14, 'France'), (14, 'England'), (12, 'Uruguay'), (12, 'Belgium'), (11, 'Sweden')]\n"
          ]
        },
        {
          "output_type": "display_data",
          "data": {
            "text/plain": [
              "<Figure size 432x288 with 1 Axes>"
            ],
            "image/png": "[encoded data removed]"
          },
          "metadata": {
            "needs_background": "light"
          }
        }
      ]
    },
    {
      "cell_type": "markdown",
      "source": [
        "# ▶ Problem 9\n",
        "\n",
        "\n",
        "\n",
        "Determine si existe alguna ciudad que haya tenido más de 6 apariciones en mundiales\n",
        "y que en cada una de dichas ocasiones haya tenido más de 35.000 espectadores.\n"
      ],
      "metadata": {
        "id": "zA37bOK6Lrrn"
      }
    },
    {
      "cell_type": "code",
      "source": [
        "cities = df[['City', 'Attendance']]\n",
        "city_matches = pd.DataFrame(cities['City'].value_counts())\n",
        "city_matches6 = city_matches.loc[city_matches['City'] > 6].reset_index().rename(columns = {'index':'Cities','City':'Quantity'})\n",
        "attend = cities[cities.City.isin(city_matches6.Cities)]\n",
        "top_attend = attend.loc[attend['Attendance'] > 35000]\n",
        "top_attend = pd.DataFrame(top_attend['City'].value_counts()).reset_index().rename(columns = {'index':'Cities','City':'Quantity'})\n",
        "\n",
        "print('Las siguientes ciudades tuvieron más de 6 apariciones en mundiales y en cada una de esas ocasiones, tuvo más de 35.000 espectadores')\n",
        "pd.merge(city_matches6,top_attend)"
      ],
      "metadata": {
        "colab": {
          "base_uri": "https://localhost:8080/",
          "height": 444
        },
        "id": "eyDPzN2TLzpT",
        "outputId": "1750e419-9ac6-4b69-9e8d-df86d058dc8c"
      },
      "execution_count": null,
      "outputs": [
        {
          "output_type": "stream",
          "name": "stdout",
          "text": [
            "Las siguientes ciudades tuvieron más de 6 apariciones en mundiales y en cada una de esas ocasiones, tuvo más de 35.000 espectadores\n"
          ]
        },
        {
          "output_type": "execute_result",
          "data": {
            "text/plain": [
              "                  Cities  Quantity\n",
              "0          Johannesburg         15\n",
              "1          Buenos Aires         12\n",
              "2        Frankfurt/Main         10\n",
              "3                London         10\n",
              "4     Santiago De Chile         10\n",
              "5           Saint-Denis          9\n",
              "6             Barcelona          8\n",
              "7           Los Angeles          8\n",
              "8             Cape Town          8\n",
              "9   New York/New Jersey          7\n",
              "10               Durban          7\n",
              "11             Brasilia          7"
            ],
            "text/html": [
              "\n",
              "  <div id=\"df-0f8f4f2c-2b5a-4083-bfdc-00db90096f6d\">\n",
              "    <div class=\"colab-df-container\">\n",
              "      <div>\n",
              "<style scoped>\n",
              "    .dataframe tbody tr th:only-of-type {\n",
              "        vertical-align: middle;\n",
              "    }\n",
              "\n",
              "    .dataframe tbody tr th {\n",
              "        vertical-align: top;\n",
              "    }\n",
              "\n",
              "    .dataframe thead th {\n",
              "        text-align: right;\n",
              "    }\n",
              "</style>\n",
              "<table border=\"1\" class=\"dataframe\">\n",
              "  <thead>\n",
              "    <tr style=\"text-align: right;\">\n",
              "      <th></th>\n",
              "      <th>Cities</th>\n",
              "      <th>Quantity</th>\n",
              "    </tr>\n",
              "  </thead>\n",
              "  <tbody>\n",
              "    <tr>\n",
              "      <th>0</th>\n",
              "      <td>Johannesburg</td>\n",
              "      <td>15</td>\n",
              "    </tr>\n",
              "    <tr>\n",
              "      <th>1</th>\n",
              "      <td>Buenos Aires</td>\n",
              "      <td>12</td>\n",
              "    </tr>\n",
              "    <tr>\n",
              "      <th>2</th>\n",
              "      <td>Frankfurt/Main</td>\n",
              "      <td>10</td>\n",
              "    </tr>\n",
              "    <tr>\n",
              "      <th>3</th>\n",
              "      <td>London</td>\n",
              "      <td>10</td>\n",
              "    </tr>\n",
              "    <tr>\n",
              "      <th>4</th>\n",
              "      <td>Santiago De Chile</td>\n",
              "      <td>10</td>\n",
              "    </tr>\n",
              "    <tr>\n",
              "      <th>5</th>\n",
              "      <td>Saint-Denis</td>\n",
              "      <td>9</td>\n",
              "    </tr>\n",
              "    <tr>\n",
              "      <th>6</th>\n",
              "      <td>Barcelona</td>\n",
              "      <td>8</td>\n",
              "    </tr>\n",
              "    <tr>\n",
              "      <th>7</th>\n",
              "      <td>Los Angeles</td>\n",
              "      <td>8</td>\n",
              "    </tr>\n",
              "    <tr>\n",
              "      <th>8</th>\n",
              "      <td>Cape Town</td>\n",
              "      <td>8</td>\n",
              "    </tr>\n",
              "    <tr>\n",
              "      <th>9</th>\n",
              "      <td>New York/New Jersey</td>\n",
              "      <td>7</td>\n",
              "    </tr>\n",
              "    <tr>\n",
              "      <th>10</th>\n",
              "      <td>Durban</td>\n",
              "      <td>7</td>\n",
              "    </tr>\n",
              "    <tr>\n",
              "      <th>11</th>\n",
              "      <td>Brasilia</td>\n",
              "      <td>7</td>\n",
              "    </tr>\n",
              "  </tbody>\n",
              "</table>\n",
              "</div>\n",
              "      <button class=\"colab-df-convert\" onclick=\"convertToInteractive('df-0f8f4f2c-2b5a-4083-bfdc-00db90096f6d')\"\n",
              "              title=\"Convert this dataframe to an interactive table.\"\n",
              "              style=\"display:none;\">\n",
              "        \n",
              "  <svg xmlns=\"http://www.w3.org/2000/svg\" height=\"24px\"viewBox=\"0 0 24 24\"\n",
              "       width=\"24px\">\n",
              "    <path d=\"M0 0h24v24H0V0z\" fill=\"none\"/>\n",
              "    <path d=\"M18.56 5.44l.94 2.06.94-2.06 2.06-.94-2.06-.94-.94-2.06-.94 2.06-2.06.94zm-11 1L8.5 8.5l.94-2.06 2.06-.94-2.06-.94L8.5 2.5l-.94 2.06-2.06.94zm10 10l.94 2.06.94-2.06 2.06-.94-2.06-.94-.94-2.06-.94 2.06-2.06.94z\"/><path d=\"M17.41 7.96l-1.37-1.37c-.4-.4-.92-.59-1.43-.59-.52 0-1.04.2-1.43.59L10.3 9.45l-7.72 7.72c-.78.78-.78 2.05 0 2.83L4 21.41c.39.39.9.59 1.41.59.51 0 1.02-.2 1.41-.59l7.78-7.78 2.81-2.81c.8-.78.8-2.07 0-2.86zM5.41 20L4 18.59l7.72-7.72 1.47 1.35L5.41 20z\"/>\n",
              "  </svg>\n",
              "      </button>\n",
              "      \n",
              "  <style>\n",
              "    .colab-df-container {\n",
              "      display:flex;\n",
              "      flex-wrap:wrap;\n",
              "      gap: 12px;\n",
              "    }\n",
              "\n",
              "    .colab-df-convert {\n",
              "      background-color: #E8F0FE;\n",
              "      border: none;\n",
              "      border-radius: 50%;\n",
              "      cursor: pointer;\n",
              "      display: none;\n",
              "      fill: #1967D2;\n",
              "      height: 32px;\n",
              "      padding: 0 0 0 0;\n",
              "      width: 32px;\n",
              "    }\n",
              "\n",
              "    .colab-df-convert:hover {\n",
              "      background-color: #E2EBFA;\n",
              "      box-shadow: 0px 1px 2px rgba(60, 64, 67, 0.3), 0px 1px 3px 1px rgba(60, 64, 67, 0.15);\n",
              "      fill: #174EA6;\n",
              "    }\n",
              "\n",
              "    [theme=dark] .colab-df-convert {\n",
              "      background-color: #3B4455;\n",
              "      fill: #D2E3FC;\n",
              "    }\n",
              "\n",
              "    [theme=dark] .colab-df-convert:hover {\n",
              "      background-color: #434B5C;\n",
              "      box-shadow: 0px 1px 3px 1px rgba(0, 0, 0, 0.15);\n",
              "      filter: drop-shadow(0px 1px 2px rgba(0, 0, 0, 0.3));\n",
              "      fill: #FFFFFF;\n",
              "    }\n",
              "  </style>\n",
              "\n",
              "      <script>\n",
              "        const buttonEl =\n",
              "          document.querySelector('#df-0f8f4f2c-2b5a-4083-bfdc-00db90096f6d button.colab-df-convert');\n",
              "        buttonEl.style.display =\n",
              "          google.colab.kernel.accessAllowed ? 'block' : 'none';\n",
              "\n",
              "        async function convertToInteractive(key) {\n",
              "          const element = document.querySelector('#df-0f8f4f2c-2b5a-4083-bfdc-00db90096f6d');\n",
              "          const dataTable =\n",
              "            await google.colab.kernel.invokeFunction('convertToInteractive',\n",
              "                                                     [key], {});\n",
              "          if (!dataTable) return;\n",
              "\n",
              "          const docLinkHtml = 'Like what you see? Visit the ' +\n",
              "            '<a target=\"_blank\" href=https://colab.research.google.com/notebooks/data_table.ipynb>data table notebook</a>'\n",
              "            + ' to learn more about interactive tables.';\n",
              "          element.innerHTML = '';\n",
              "          dataTable['output_type'] = 'display_data';\n",
              "          await google.colab.output.renderOutput(dataTable, element);\n",
              "          const docLink = document.createElement('div');\n",
              "          docLink.innerHTML = docLinkHtml;\n",
              "          element.appendChild(docLink);\n",
              "        }\n",
              "      </script>\n",
              "    </div>\n",
              "  </div>\n",
              "  "
            ]
          },
          "metadata": {},
          "execution_count": 62
        }
      ]
    },
    {
      "cell_type": "markdown",
      "source": [
        "# ▶ Problem 10\n",
        "¿Cuál es la ciudad con el mayor número de partidos que han terminado con una diferencia de 3 goles?"
      ],
      "metadata": {
        "id": "eY9oskYMTtEa"
      }
    },
    {
      "cell_type": "code",
      "source": [
        "cities_goals = df[['City','Home Team Goals', 'Away Team Goals']]\n",
        "cities_goals['Difference'] = pd.DataFrame(abs(cities_goals['Home Team Goals'] - cities_goals['Away Team Goals']))\n",
        "cities_goals_dif = cities_goals[['City','Difference']]\n",
        "cities_goals_dif3 = pd.DataFrame(cities_goals_dif.loc[cities_goals_dif['Difference'] == 3].value_counts()).reset_index().rename(columns = {'index':'City','Difference':'Difference'})\n",
        "cities_goals_dif3.iat[0,2]\n",
        "print('La ciudad con más partidos terminados con diferencia de 3 goles fue:',cities_goals_dif3.iat[0,0],'con',cities_goals_dif3.iat[0,2])"
      ],
      "metadata": {
        "colab": {
          "base_uri": "https://localhost:8080/"
        },
        "id": "LCgCHGi6UHIS",
        "outputId": "52a79407-e7a4-4237-b546-522b4a4e69d8"
      },
      "execution_count": null,
      "outputs": [
        {
          "output_type": "stream",
          "name": "stdout",
          "text": [
            "La ciudad con más partidos terminados con diferencia de 3 goles fue: Montevideo  con 5\n"
          ]
        }
      ]
    },
    {
      "cell_type": "markdown",
      "source": [
        "# **2.2 Series Temporales**\n",
        "\n",
        "\n",
        "\n",
        "\n"
      ],
      "metadata": {
        "id": "1-byr6Y_VXGc"
      }
    },
    {
      "cell_type": "code",
      "source": [
        "df['total_goals'] = df['total_goals'].astype(int)\n",
        "goles_por_mundial = df.groupby('Year')['total_goals'].sum()\n",
        "goles_por_mundial"
      ],
      "metadata": {
        "colab": {
          "base_uri": "https://localhost:8080/"
        },
        "id": "-3LUCpXwZtFm",
        "outputId": "93987dec-9a0a-4a8f-c0b4-eebed06efc1f"
      },
      "execution_count": 138,
      "outputs": [
        {
          "output_type": "execute_result",
          "data": {
            "text/plain": [
              "Year\n",
              "1930.0     70\n",
              "1934.0     70\n",
              "1938.0     84\n",
              "1950.0     88\n",
              "1954.0    140\n",
              "1958.0    126\n",
              "1962.0     89\n",
              "1966.0     89\n",
              "1970.0     95\n",
              "1974.0     97\n",
              "1978.0    102\n",
              "1982.0    146\n",
              "1986.0    132\n",
              "1990.0    115\n",
              "1994.0    141\n",
              "1998.0    171\n",
              "2002.0    161\n",
              "2006.0    147\n",
              "2010.0    145\n",
              "2014.0    171\n",
              "Name: total_goals, dtype: int64"
            ]
          },
          "metadata": {},
          "execution_count": 138
        }
      ]
    },
    {
      "cell_type": "code",
      "source": [
        "# Armo una función para poder visualizar los valores entre ciertas fechas\n",
        "def fechas_por_periodos(df, fecha_minima, fecha_maxima = False):\n",
        "    if fecha_maxima == False:\n",
        "        print(df[fecha_minima:])\n",
        "        \n",
        "    else:\n",
        "        print(df[fecha_minima:fecha_maxima])\n",
        "        \n",
        "fechas_por_periodos(goles_por_mundial,\"2006\",\"2014\")       \n"
      ],
      "metadata": {
        "colab": {
          "base_uri": "https://localhost:8080/"
        },
        "id": "WsRduMNnerZ3",
        "outputId": "d1e92443-9b96-49cd-9ca7-f53240d80593"
      },
      "execution_count": 139,
      "outputs": [
        {
          "output_type": "stream",
          "name": "stdout",
          "text": [
            "Year\n",
            "2006.0    147\n",
            "2010.0    145\n",
            "Name: total_goals, dtype: int64\n"
          ]
        }
      ]
    },
    {
      "cell_type": "markdown",
      "source": [
        "**Visualización de la Serie**"
      ],
      "metadata": {
        "id": "c4FD37fXmBGU"
      }
    },
    {
      "cell_type": "code",
      "source": [
        "goles_por_mundial.plot(figsize=(18, 6), color = \"red\")\n",
        "plt.title(\"Goles por mundial\")\n",
        "plt.show()"
      ],
      "metadata": {
        "colab": {
          "base_uri": "https://localhost:8080/",
          "height": 403
        },
        "id": "HXnG6lBXlky4",
        "outputId": "675e7464-9435-41fa-f46a-bb7bab2ddd8c"
      },
      "execution_count": null,
      "outputs": [
        {
          "output_type": "display_data",
          "data": {
            "text/plain": [
              "<Figure size 1296x432 with 1 Axes>"
            ],
            "image/png": "[encoded data removed]"
          },
          "metadata": {}
        }
      ]
    },
    {
      "cell_type": "code",
      "source": [
        "from pylab import rcParams"
      ],
      "metadata": {
        "id": "iYHNRIfNmFo7"
      },
      "execution_count": 140,
      "outputs": []
    },
    {
      "cell_type": "markdown",
      "source": [
        "#▶ Punto 1\n",
        "Realizar un Análisis Descriptivo de las Series de Tiempo (Percentiles, Promedio, Varianza, Kurtosis, Asimetría, Gráfico de Box-Plot, etc.)\n"
      ],
      "metadata": {
        "id": "JeA8jPpemvYG"
      }
    },
    {
      "cell_type": "code",
      "source": [
        "print('El promedio es:', goles_por_mundial.mean())\n",
        "print('La varianza es:', goles_por_mundial.var())\n",
        "print('La kurtosis es:', goles_por_mundial.kurtosis())\n",
        "print('La asimetría es:', goles_por_mundial.skew())\n",
        "print('Los percentiles son:', goles_por_mundial.quantile([0.25,0.50,0.75]))"
      ],
      "metadata": {
        "colab": {
          "base_uri": "https://localhost:8080/"
        },
        "id": "GSbBNiFEmzDR",
        "outputId": "cd141dec-a290-4955-f9bf-1f8be50e3d98"
      },
      "execution_count": null,
      "outputs": [
        {
          "output_type": "stream",
          "name": "stdout",
          "text": [
            "El promedio es: 118.95\n",
            "La varianza es: 1087.2078947368423\n",
            "La kurtosis es: -1.3371945092403794\n",
            "La asimetría es: 0.07936221425714736\n",
            "Los percentiles son: 0.25     89.00\n",
            "0.50    120.50\n",
            "0.75    145.25\n",
            "Name: total_goals, dtype: float64\n"
          ]
        }
      ]
    },
    {
      "cell_type": "code",
      "source": [
        "plt.boxplot(goles_por_mundial)\n",
        "plt.title(\"Boxplot de la serie de goles\")\n",
        "plt.show()"
      ],
      "metadata": {
        "colab": {
          "base_uri": "https://localhost:8080/",
          "height": 281
        },
        "id": "ZZIr_7XLs0Ny",
        "outputId": "d8d4c9de-d120-4290-efc5-b7058c50ab65"
      },
      "execution_count": null,
      "outputs": [
        {
          "output_type": "display_data",
          "data": {
            "text/plain": [
              "<Figure size 432x288 with 1 Axes>"
            ],
            "image/png": "[encoded data removed]"
          },
          "metadata": {
            "needs_background": "light"
          }
        }
      ]
    },
    {
      "cell_type": "markdown",
      "source": [
        "#▶ Punto 2\n",
        "Si la serie no fuese estacionaria deberá realizar las pruebas correspondientes para\n",
        "testear la presencia de raíces unitarias."
      ],
      "metadata": {
        "id": "geOZHg5-kBrn"
      }
    },
    {
      "cell_type": "code",
      "source": [
        "#esto no va a ir creo\n",
        "X = goles_por_mundial.values\n",
        "split = round(len(X) / 2)\n",
        "X1, X2 = X[0:split], X[split:]\n",
        "mean1, mean2 = X1.mean(), X2.mean()\n",
        "var1, var2 = X1.var(), X2.var()\n",
        "print(\"Media 1: {} | Media 2: {}\".format(mean1, mean2))\n",
        "print(\"Var 1: {} | Var 2: {}\".format(var1, var2))"
      ],
      "metadata": {
        "colab": {
          "base_uri": "https://localhost:8080/"
        },
        "id": "e7pfZ6dSZBSr",
        "outputId": "6cf3c3ff-acb1-442a-d358-183dd1653be1"
      },
      "execution_count": null,
      "outputs": [
        {
          "output_type": "stream",
          "name": "stdout",
          "text": [
            "Media 1: 94.8 | Media 2: 143.1\n",
            "Var 1: 448.15999999999997 | Var 2: 451.09\n"
          ]
        }
      ]
    },
    {
      "cell_type": "markdown",
      "source": [
        "**Test de Dickey Fuller.**\n",
        "\n",
        "Test para testear la presencia de una raíz unitaria (si existe dicha raíz entonces la serie es no estacionaria y habrá que trabajar para salvar este problemas).\n",
        "* **Hipótesis**:\n",
        "    * **H0**: la serie posee una raíz unitaria.\n",
        "    * **H1**: la serie NO posee una raíz unitaria ( es decir, es *estacionaria*)\n",
        "    \n",
        "* **P-value**:\n",
        "    * p-value > 0.05: No rechazo H0 por lo que se puede sostener la hipótesis de presencia de raíz unitaria.\n",
        "    * p-value <= 0.05: Rechazo la H0; vicerversa."
      ],
      "metadata": {
        "id": "G9kFFNRcZNwd"
      }
    },
    {
      "cell_type": "code",
      "source": [
        "from statsmodels.tsa.stattools import adfuller, kpss\n",
        "from statsmodels.tsa.stattools import acf, pacf\n",
        "from statsmodels.graphics.tsaplots import plot_acf, plot_pacf"
      ],
      "metadata": {
        "id": "kQIgEfEbZ93v"
      },
      "execution_count": null,
      "outputs": []
    },
    {
      "cell_type": "code",
      "source": [
        "goles_por_mundial_df = pd.DataFrame(goles_por_mundial).reset_index().rename(columns = {'total_goals':'Goals'})\n",
        "y = goles_por_mundial_df['Goals']\n",
        "test_df = adfuller(y)\n",
        "\n",
        "print('Valor del test: {}'.format(test_df[0]))\n",
        "print('p-value: {}'.format(test_df[1]))"
      ],
      "metadata": {
        "colab": {
          "base_uri": "https://localhost:8080/"
        },
        "id": "PSYY8DXXZ-gS",
        "outputId": "714db51e-b056-46f3-8cd4-f4a1ea6a4d0a"
      },
      "execution_count": null,
      "outputs": [
        {
          "output_type": "stream",
          "name": "stdout",
          "text": [
            "Valor del test: 1.3057054798330834\n",
            "p-value: 0.9966406910117558\n"
          ]
        }
      ]
    },
    {
      "cell_type": "code",
      "source": [
        "## Armo una función para presentar los resultados:\n",
        "def test_dickey_fuller(serie,alpha):\n",
        "    test = adfuller(serie)\n",
        "    dkf, pv = test[0], test[1]\n",
        "    \n",
        "    if pv > alpha:\n",
        "        print(\"El p-value ({}) es mayor que el alpha ({}).\".format(pv,alpha))\n",
        "        print(\"NO rechazo H0.\")\n",
        "        \n",
        "    else:\n",
        "        print(\"El p-value ({}) es menor que el alpha ({}).\".format(pv,alpha))\n",
        "        print(\"Rechazo H0.\")\n",
        "    \n",
        "    return dkf, pv"
      ],
      "metadata": {
        "id": "kBVmBCLHfQwh"
      },
      "execution_count": null,
      "outputs": []
    },
    {
      "cell_type": "code",
      "source": [
        "## Pruebo test de Dickey Fuller con alpha de 0.05\n",
        "test_dickey_fuller(y, alpha = 0.05)"
      ],
      "metadata": {
        "colab": {
          "base_uri": "https://localhost:8080/"
        },
        "id": "Za8_3gy2gNoK",
        "outputId": "64f686c1-9915-43aa-8a6d-9af0b6f7f55f"
      },
      "execution_count": null,
      "outputs": [
        {
          "output_type": "stream",
          "name": "stdout",
          "text": [
            "El p-value (0.9966406910117558) es mayor que el alpha (0.05).\n",
            "NO rechazo H0.\n"
          ]
        },
        {
          "output_type": "execute_result",
          "data": {
            "text/plain": [
              "(1.3057054798330834, 0.9966406910117558)"
            ]
          },
          "metadata": {},
          "execution_count": 43
        }
      ]
    },
    {
      "cell_type": "markdown",
      "source": [
        "Como no se rechaza H0, la serie posee una raíz unitaria. Es decir, hay que estacionarla."
      ],
      "metadata": {
        "id": "xj1qZJ4zgUDu"
      }
    },
    {
      "cell_type": "code",
      "source": [
        "## Serie estacionada\n",
        "goles_por_mundial_detrend = sm.tsa.detrend(goles_por_mundial, order=2, axis=1)\n",
        "plt.title(\"Tendencia\")\n",
        "goles_por_mundial_detrend.plot(figsize=(18,6))\n",
        "plt.plot()"
      ],
      "metadata": {
        "colab": {
          "base_uri": "https://localhost:8080/",
          "height": 420
        },
        "id": "ur-NPbHihpmv",
        "outputId": "e409d0ae-a4c9-41a4-ef0e-2bd790395620"
      },
      "execution_count": null,
      "outputs": [
        {
          "output_type": "execute_result",
          "data": {
            "text/plain": [
              "[]"
            ]
          },
          "metadata": {},
          "execution_count": 38
        },
        {
          "output_type": "display_data",
          "data": {
            "text/plain": [
              "<Figure size 1296x432 with 1 Axes>"
            ],
            "image/png": "[encoded data removed]"
          },
          "metadata": {}
        }
      ]
    },
    {
      "cell_type": "code",
      "source": [
        "## Pruebo otra vez test Dickey Fuller para la serie estacionada una vez\n",
        "test_dickey_fuller(goles_por_mundial_detrend, alpha = 0.05)"
      ],
      "metadata": {
        "colab": {
          "base_uri": "https://localhost:8080/"
        },
        "id": "NCGueFB9iIhF",
        "outputId": "a0cebdd0-a195-496c-d405-45bfe91f18a4"
      },
      "execution_count": null,
      "outputs": [
        {
          "output_type": "stream",
          "name": "stdout",
          "text": [
            "El p-value (0.021915968396768903) es menor que el alpha (0.05).\n",
            "Rechazo H0.\n"
          ]
        },
        {
          "output_type": "execute_result",
          "data": {
            "text/plain": [
              "(-3.1679575399069626, 0.021915968396768903)"
            ]
          },
          "metadata": {},
          "execution_count": 39
        }
      ]
    },
    {
      "cell_type": "markdown",
      "source": [
        "Ahora si, rechazamos H0, por lo tanto, la serie es estacionaria."
      ],
      "metadata": {
        "id": "c5CfCo86iSsZ"
      }
    },
    {
      "cell_type": "code",
      "source": [
        "#Esto no se\n",
        "goles_por_mundial - detrend"
      ],
      "metadata": {
        "id": "3HcX7Wi5i1GO",
        "colab": {
          "base_uri": "https://localhost:8080/"
        },
        "outputId": "e8a26ee2-b093-4140-addb-6b621df0f347"
      },
      "execution_count": null,
      "outputs": [
        {
          "output_type": "execute_result",
          "data": {
            "text/plain": [
              "Year\n",
              "1930.0    -8.434416\n",
              "1934.0   -12.027307\n",
              "1938.0    -1.732183\n",
              "1950.0    -1.549043\n",
              "1954.0    46.522112\n",
              "1958.0    28.481283\n",
              "1962.0   -12.671531\n",
              "1966.0   -16.936329\n",
              "1970.0   -15.313112\n",
              "1974.0   -17.801880\n",
              "1978.0   -17.402632\n",
              "1982.0    21.884632\n",
              "1986.0     3.059911\n",
              "1990.0   -18.876794\n",
              "1994.0     2.074516\n",
              "1998.0    26.913841\n",
              "2002.0    11.641183\n",
              "2006.0    -7.743461\n",
              "2010.0   -15.240089\n",
              "2014.0     5.151299\n",
              "Name: total_goals, dtype: float64"
            ]
          },
          "metadata": {},
          "execution_count": 54
        }
      ]
    },
    {
      "cell_type": "markdown",
      "source": [
        "## ▶ Punto 3\n",
        "Graficar la FAS, FAC y FACP de la Serie en un solo gráfico por serie y analizarlas"
      ],
      "metadata": {
        "id": "eq1I3fsPgmGO"
      }
    },
    {
      "cell_type": "code",
      "source": [
        "## FAS\n",
        "FAC = sm.tsa.acf(goles_por_mundial, nlags = 9)\n",
        "## FACP\n",
        "FACP = sm.tsa.pacf(goles_por_mundial, nlags = 9)\n",
        "plt.rcParams.update({'figure.figsize': (10,8)})\n",
        "sm.graphics.tsa.plot_acf(FAC.tolist(), lags=9)\n",
        "sm.graphics.tsa.plot_pacf(FACP.tolist(), lags=4)\n",
        "plt.plot()"
      ],
      "metadata": {
        "colab": {
          "base_uri": "https://localhost:8080/",
          "height": 1000
        },
        "id": "HWVywO3Dj_pd",
        "outputId": "22e72a9b-26ea-4711-8251-87d4322ec4e6"
      },
      "execution_count": null,
      "outputs": [
        {
          "output_type": "execute_result",
          "data": {
            "text/plain": [
              "[]"
            ]
          },
          "metadata": {},
          "execution_count": 68
        },
        {
          "output_type": "display_data",
          "data": {
            "text/plain": [
              "<Figure size 1200x960 with 1 Axes>"
            ],
            "image/png": "[encoded data removed]"
          },
          "metadata": {}
        },
        {
          "output_type": "display_data",
          "data": {
            "text/plain": [
              "<Figure size 1200x960 with 1 Axes>"
            ],
            "image/png": "[encoded data removed]"
          },
          "metadata": {}
        }
      ]
    },
    {
      "cell_type": "code",
      "source": [
        "dta = sm.datasets.sunspots.load_pandas().data\n",
        "dta.index = pd.Index(sm.tsa.datetools.dates_from_range('1700', '2008'))\n",
        "del dta[\"YEAR\"]\n",
        "sm.graphics.tsa.plot_acf(dta.values.squeeze(), lags=40)\n",
        "plt.show()"
      ],
      "metadata": {
        "id": "Jv0PhNmLpDxr",
        "colab": {
          "base_uri": "https://localhost:8080/",
          "height": 498
        },
        "outputId": "967f9f2f-7d46-45c9-d816-314417e1832f"
      },
      "execution_count": null,
      "outputs": [
        {
          "output_type": "display_data",
          "data": {
            "text/plain": [
              "<Figure size 720x576 with 1 Axes>"
            ],
            "image/png": "[encoded data removed]"
          },
          "metadata": {}
        }
      ]
    },
    {
      "cell_type": "markdown",
      "source": [
        "## ▶ Punto 4\n",
        "Efectuar una estimación de ambas series de tiempo a distintos modelos ARIMA y\n",
        "encontrar aquella que se ajuste mejor a los datos (pueden emplear Criterios de Información y analizar significatividad individual y global de los parámetros del modelo,\n",
        "tendencias, raíces unitarias, etc). Es importante que detallen una comparación con\n",
        "otros modelos."
      ],
      "metadata": {
        "id": "Vty17O11nUVr"
      }
    },
    {
      "cell_type": "markdown",
      "source": [
        "Al observar el gráfico de la FACP, podemos ver que solo el primero de los lags tiene importancia. Por ende, podemos suponer que el valor de p será igual a 1.\n",
        "\n",
        "Analizando el gráfico de la FAC, podemos considerar usar el valor 1 para el parámetro q."
      ],
      "metadata": {
        "id": "qkW7hTxyNyas"
      }
    },
    {
      "cell_type": "code",
      "source": [
        "from statsmodels.tsa.arima_model import ARIMA\n",
        "\n",
        "# p --> 1, d --> 0 ,q --> 1 ARIMA Model\n",
        "model1_1 = ARIMA(goles_por_mundial_detrend, order=(1,0,1))\n",
        "model1_1_fit = model1_1.fit(disp=0)\n",
        "arma11 = model1_1_fit.aic\n",
        "print(model1_1_fit.summary())"
      ],
      "metadata": {
        "colab": {
          "base_uri": "https://localhost:8080/"
        },
        "id": "FWz-6UuEQGNx",
        "outputId": "99637da2-ccd1-4039-8d42-51d3c9a0cfa7"
      },
      "execution_count": null,
      "outputs": [
        {
          "output_type": "stream",
          "name": "stdout",
          "text": [
            "                              ARMA Model Results                              \n",
            "==============================================================================\n",
            "Dep. Variable:            total_goals   No. Observations:                   20\n",
            "Model:                     ARMA(1, 1)   Log Likelihood                 -83.670\n",
            "Method:                       css-mle   S.D. of innovations             15.650\n",
            "Date:                Fri, 25 Nov 2022   AIC                            175.340\n",
            "Time:                        20:00:03   BIC                            179.322\n",
            "Sample:                             0   HQIC                           176.117\n",
            "                                                                              \n",
            "=====================================================================================\n",
            "                        coef    std err          z      P>|z|      [0.025      0.975]\n",
            "-------------------------------------------------------------------------------------\n",
            "const                 0.4729      5.036      0.094      0.925      -9.398      10.344\n",
            "ar.L1.total_goals    -0.2134      0.441     -0.484      0.629      -1.078       0.651\n",
            "ma.L1.total_goals     0.7626      0.390      1.956      0.050      -0.001       1.527\n",
            "                                    Roots                                    \n",
            "=============================================================================\n",
            "                  Real          Imaginary           Modulus         Frequency\n",
            "-----------------------------------------------------------------------------\n",
            "AR.1           -4.6871           +0.0000j            4.6871            0.5000\n",
            "MA.1           -1.3113           +0.0000j            1.3113            0.5000\n",
            "-----------------------------------------------------------------------------\n"
          ]
        }
      ]
    },
    {
      "cell_type": "code",
      "source": [
        "model2_1 = ARIMA(goles_por_mundial_detrend, order=(2,0,1))\n",
        "model2_1_fit = model2_1.fit(disp=0)\n",
        "arma21 = model2_1_fit.aic"
      ],
      "metadata": {
        "id": "rCMjLf6RRI1J"
      },
      "execution_count": null,
      "outputs": []
    },
    {
      "cell_type": "code",
      "source": [
        "model1_2 = ARIMA(goles_por_mundial_detrend, order=(1,0,2))\n",
        "model1_2_fit = model1_2.fit(disp=0)\n",
        "arma12 = model1_2_fit.aic"
      ],
      "metadata": {
        "id": "OjAL6by0Rs09"
      },
      "execution_count": null,
      "outputs": []
    },
    {
      "cell_type": "code",
      "source": [
        "model2_2 = ARIMA(goles_por_mundial_detrend, order=(2,0,2))\n",
        "model2_2_fit = model2_2.fit(disp=0)\n",
        "arma22 = model2_2_fit.aic"
      ],
      "metadata": {
        "id": "rJ8yaUulSBR4"
      },
      "execution_count": null,
      "outputs": []
    },
    {
      "cell_type": "code",
      "source": [
        "arma_models = [arma11,arma21,arma12,arma22]\n",
        "arma_modelsbis=set(arma_models)\n",
        "arma_modelsbis\n",
        "arma_aic = list(arma_modelsbis)\n",
        "arma_aic_selected = arma_aic[1]\n",
        "\n",
        "for i in arma_models:\n",
        "  if i == arma_aic_selected:\n",
        "    print(arma_aic_selected['Model'])\n",
        "\n",
        "\n",
        "print('El modelo seleccionado por criterio de información AIC es', arma_aic_selected,  )\n",
        "\n",
        "###Falta indicar el orden del modelo. el criterio AIC menor ya lo tenemos."
      ],
      "metadata": {
        "colab": {
          "base_uri": "https://localhost:8080/",
          "height": 235
        },
        "id": "tZjd_9DbSG2g",
        "outputId": "a1e268ae-8e7a-44ee-8522-0144ec7c574e"
      },
      "execution_count": null,
      "outputs": [
        {
          "output_type": "error",
          "ename": "TypeError",
          "evalue": "ignored",
          "traceback": [
            "\u001b[0;31m---------------------------------------------------------------------------\u001b[0m",
            "\u001b[0;31mTypeError\u001b[0m                                 Traceback (most recent call last)",
            "\u001b[0;32m<ipython-input-132-eafa4996b685>\u001b[0m in \u001b[0;36m<module>\u001b[0;34m\u001b[0m\n\u001b[1;32m      7\u001b[0m \u001b[0;32mfor\u001b[0m \u001b[0mi\u001b[0m \u001b[0;32min\u001b[0m \u001b[0marma_models\u001b[0m\u001b[0;34m:\u001b[0m\u001b[0;34m\u001b[0m\u001b[0;34m\u001b[0m\u001b[0m\n\u001b[1;32m      8\u001b[0m   \u001b[0;32mif\u001b[0m \u001b[0mi\u001b[0m \u001b[0;34m==\u001b[0m \u001b[0marma_aic_selected\u001b[0m\u001b[0;34m:\u001b[0m\u001b[0;34m\u001b[0m\u001b[0;34m\u001b[0m\u001b[0m\n\u001b[0;32m----> 9\u001b[0;31m     \u001b[0mprint\u001b[0m\u001b[0;34m(\u001b[0m\u001b[0marma_aic_selected\u001b[0m\u001b[0;34m[\u001b[0m\u001b[0;34m'Model'\u001b[0m\u001b[0;34m]\u001b[0m\u001b[0;34m)\u001b[0m\u001b[0;34m\u001b[0m\u001b[0;34m\u001b[0m\u001b[0m\n\u001b[0m\u001b[1;32m     10\u001b[0m \u001b[0;34m\u001b[0m\u001b[0m\n\u001b[1;32m     11\u001b[0m \u001b[0;34m\u001b[0m\u001b[0m\n",
            "\u001b[0;31mTypeError\u001b[0m: 'float' object is not subscriptable"
          ]
        }
      ]
    },
    {
      "cell_type": "markdown",
      "source": [
        "5) Evaluar el desempeño del modelo a través de la metodología del ’train - test split’.\n",
        "Puede usar las métricas que considere oportunas."
      ],
      "metadata": {
        "id": "J19oo8LKbpxs"
      }
    },
    {
      "cell_type": "code",
      "source": [
        "y = goles_por_mundial_df['Goals']\n",
        "test_size = 20\n",
        "\n",
        "x_train = y[:test_size]\n",
        "x_test = y[test_size:]"
      ],
      "metadata": {
        "id": "2p8bmhO2btbQ"
      },
      "execution_count": 163,
      "outputs": []
    },
    {
      "cell_type": "code",
      "source": [
        "print(f\"Training data shape: {x_train.shape}\")\n",
        "print(f\"Validation data shape: {x_test.shape}\")\n"
      ],
      "metadata": {
        "colab": {
          "base_uri": "https://localhost:8080/"
        },
        "id": "EishNNh_gEye",
        "outputId": "2a685b49-abba-4894-e55e-abe14c56aeed"
      },
      "execution_count": 164,
      "outputs": [
        {
          "output_type": "stream",
          "name": "stdout",
          "text": [
            "Training data shape: (20,)\n",
            "Validation data shape: (0,)\n"
          ]
        }
      ]
    },
    {
      "cell_type": "markdown",
      "source": [
        "## **2.3 Simulación**\n"
      ],
      "metadata": {
        "id": "iOZE1FLjVXi9"
      }
    },
    {
      "cell_type": "code",
      "source": [
        "df_simulacion = (df['Year'] >= 1960) & (df['Year'] <= 2014) & (df['Home Team Name'] == 'Argentina') | (df['Home Team Name'] == 'England') | (df['Home Team Name'] == 'Brazil') | (df['Home Team Name'] == 'Germany')| (df['Home Team Name'] == 'Italy') | (df['Home Team Name'] == 'France') | (df['Home Team Name'] == 'Uruguay') | (df['Home Team Name'] == 'Belgium') | (df['Away Team Name'] == 'Argentina') | (df['Away Team Name'] == 'England') | (df['Away Team Name'] == 'Brazil') | (df['Away Team Name'] == 'Germany')| (df['Away Team Name'] == 'Italy') | (df['Away Team Name'] == 'France') | (df['Away Team Name'] == 'Uruguay') | (df['Away Team Name'] == 'Belgium')\n"
      ],
      "metadata": {
        "colab": {
          "base_uri": "https://localhost:8080/"
        },
        "id": "RyrypfyYn6Nk",
        "outputId": "284b2369-3c21-4b9b-dbfe-fd53761271fa"
      },
      "execution_count": 180,
      "outputs": [
        {
          "output_type": "execute_result",
          "data": {
            "text/plain": [
              "0     True\n",
              "1     True\n",
              "2     True\n",
              "3    False\n",
              "4     True\n",
              "dtype: bool"
            ]
          },
          "metadata": {},
          "execution_count": 180
        }
      ]
    },
    {
      "cell_type": "markdown",
      "source": [
        "1) Obtener la función de distribución de los goles anotados por cada uno de los equipos;\n",
        "hay que tener en cuenta que los equipos han disputado partidos tanto de locales como\n",
        "de visitantes por lo que hay que contemplar ambas columnas a la hora de computar\n",
        "la distribución. Hint: se recomienda utilizar una distribución tabular; aunque no es la\n",
        "única solución posible."
      ],
      "metadata": {
        "id": "Z87Kgx_GrTqE"
      }
    },
    {
      "cell_type": "code",
      "source": [
        "arg_matches = (df['Year'] >= 1960) & (df['Year'] <= 2014) & (df['Home Team Name'] == 'Argentina') | (df['Away Team Name'] == 'Argentina')\n",
        "arg_df = df[arg_matches]\n",
        "eng_matches = (df['Year'] >= 1960) & (df['Year'] <= 2014) &(df['Home Team Name'] == 'England') | (df['Away Team Name'] == 'England') \n",
        "eng_df = df[eng_matches]\n",
        "bra_matches = (df['Year'] >= 1960) & (df['Year'] <= 2014) &(df['Home Team Name'] == 'Brazil') | (df['Away Team Name'] == 'Brazil')\n",
        "bra_df = df[bra_matches] \n",
        "ger_matches = (df['Year'] >= 1960) & (df['Year'] <= 2014) &(df['Home Team Name'] == 'Germany') | (df['Away Team Name'] == 'Germany') \n",
        "ger_df = df[ger_matches] \n",
        "ita_matches = (df['Year'] >= 1960) & (df['Year'] <= 2014) &(df['Home Team Name'] == 'Italy') | (df['Away Team Name'] == 'Italy')\n",
        "ita_df = df[ita_matches]  \n",
        "fra_matches = (df['Year'] >= 1960) & (df['Year'] <= 2014) &(df['Home Team Name'] == 'France') | (df['Away Team Name'] == 'France') \n",
        "fra_df = df[fra_matches] \n",
        "uru_matches = (df['Year'] >= 1960) & (df['Year'] <= 2014) &(df['Home Team Name'] == 'Uruguay') | (df['Away Team Name'] == 'Uruguay') \n",
        "uru_df = df[uru_matches] \n",
        "bel_matches = (df['Year'] >= 1960) & (df['Year'] <= 2014) &(df['Home Team Name'] == 'Belgium') | (df['Away Team Name'] == 'Belgium') \n",
        "bel_df = df[bel_matches] "
      ],
      "metadata": {
        "id": "UUziIWnRrUjD"
      },
      "execution_count": 196,
      "outputs": []
    },
    {
      "cell_type": "code",
      "source": [
        " arg_dist= arg_df.groupby(by = \"Home Team Goals\")[\"Home Team Goals\"].count()/len(arg_df)\n",
        " arg_dist.rename(axis = {\"Home Team Goals\" : \"Frecuencia\"}, inplace = True)\n",
        " arg_dist"
      ],
      "metadata": {
        "colab": {
          "base_uri": "https://localhost:8080/"
        },
        "id": "B9cU17aFuoDP",
        "outputId": "5f1f717b-2fcf-45d9-9148-db5ddf164cd3"
      },
      "execution_count": 195,
      "outputs": [
        {
          "output_type": "execute_result",
          "data": {
            "text/plain": [
              "Home Team Goals\n",
              "0.0    0.183099\n",
              "1.0    0.309859\n",
              "2.0    0.253521\n",
              "3.0    0.112676\n",
              "4.0    0.084507\n",
              "5.0    0.014085\n",
              "6.0    0.042254\n",
              "dtype: float64"
            ]
          },
          "metadata": {},
          "execution_count": 195
        }
      ]
    },
    {
      "cell_type": "code",
      "source": [
        " eng_dist= eng_df.groupby(by = \"Home Team Goals\")[\"Home Team Goals\"].count()/len(eng_df)\n",
        " eng_dist.rename(axis = {\"Home Team Goals\" : \"Frecuencia\"}, inplace = True)\n",
        " eng_dist"
      ],
      "metadata": {
        "colab": {
          "base_uri": "https://localhost:8080/"
        },
        "id": "v7Smqh3Zz6J5",
        "outputId": "2553a05a-d97a-44b1-9c63-a3889a6de38f"
      },
      "execution_count": 197,
      "outputs": [
        {
          "output_type": "execute_result",
          "data": {
            "text/plain": [
              "Home Team Goals\n",
              "0.0    0.258621\n",
              "1.0    0.327586\n",
              "2.0    0.241379\n",
              "3.0    0.120690\n",
              "4.0    0.051724\n",
              "dtype: float64"
            ]
          },
          "metadata": {},
          "execution_count": 197
        }
      ]
    },
    {
      "cell_type": "code",
      "source": [
        " bra_dist= bra_df.groupby(by = \"Home Team Goals\")[\"Home Team Goals\"].count()/len(bra_df)\n",
        " bra_dist.rename(axis = {\"Home Team Goals\" : \"Frecuencia\"}, inplace = True)\n",
        " bra_dist\n"
      ],
      "metadata": {
        "colab": {
          "base_uri": "https://localhost:8080/"
        },
        "id": "rz15JUyW0IRZ",
        "outputId": "c22a694d-a1fc-4ca7-fbc9-6f2b5a0f548d"
      },
      "execution_count": 198,
      "outputs": [
        {
          "output_type": "execute_result",
          "data": {
            "text/plain": [
              "Home Team Goals\n",
              "0.0    0.209302\n",
              "1.0    0.244186\n",
              "2.0    0.232558\n",
              "3.0    0.197674\n",
              "4.0    0.116279\n",
              "dtype: float64"
            ]
          },
          "metadata": {},
          "execution_count": 198
        }
      ]
    },
    {
      "cell_type": "code",
      "source": [
        " ger_dist= ger_df.groupby(by = \"Home Team Goals\")[\"Home Team Goals\"].count()/len(ger_df)\n",
        " ger_dist.rename(axis = {\"Home Team Goals\" : \"Frecuencia\"}, inplace = True)\n",
        " ger_dist\n"
      ],
      "metadata": {
        "colab": {
          "base_uri": "https://localhost:8080/"
        },
        "id": "5WKVHGRZ0KiE",
        "outputId": "05cfafb2-632d-49cd-9537-7f60921ed0a4"
      },
      "execution_count": 199,
      "outputs": [
        {
          "output_type": "execute_result",
          "data": {
            "text/plain": [
              "Home Team Goals\n",
              "0.0    0.268293\n",
              "1.0    0.268293\n",
              "2.0    0.219512\n",
              "3.0    0.097561\n",
              "4.0    0.121951\n",
              "8.0    0.024390\n",
              "dtype: float64"
            ]
          },
          "metadata": {},
          "execution_count": 199
        }
      ]
    },
    {
      "cell_type": "code",
      "source": [
        " ita_dist= ita_df.groupby(by = \"Home Team Goals\")[\"Home Team Goals\"].count()/len(ita_df)\n",
        " ita_dist.rename(axis = {\"Home Team Goals\" : \"Frecuencia\"}, inplace = True)\n",
        " ita_dist"
      ],
      "metadata": {
        "colab": {
          "base_uri": "https://localhost:8080/"
        },
        "id": "d0CuQ2m90RLx",
        "outputId": "ef27f7c4-f2d3-4eb4-cee0-1c5976493951"
      },
      "execution_count": 200,
      "outputs": [
        {
          "output_type": "execute_result",
          "data": {
            "text/plain": [
              "Home Team Goals\n",
              "0.0    0.194444\n",
              "1.0    0.375000\n",
              "2.0    0.250000\n",
              "3.0    0.125000\n",
              "4.0    0.055556\n",
              "dtype: float64"
            ]
          },
          "metadata": {},
          "execution_count": 200
        }
      ]
    },
    {
      "cell_type": "code",
      "source": [
        " fra_dist= fra_df.groupby(by = \"Home Team Goals\")[\"Home Team Goals\"].count()/len(fra_df)\n",
        " fra_dist.rename(axis = {\"Home Team Goals\" : \"Frecuencia\"}, inplace = True)\n",
        " fra_dist"
      ],
      "metadata": {
        "colab": {
          "base_uri": "https://localhost:8080/"
        },
        "id": "NYe1qcen0YVh",
        "outputId": "8d5d0e57-09f5-49fc-d96c-f57a8f65dff1"
      },
      "execution_count": 201,
      "outputs": [
        {
          "output_type": "execute_result",
          "data": {
            "text/plain": [
              "Home Team Goals\n",
              "0.0    0.326923\n",
              "1.0    0.230769\n",
              "2.0    0.173077\n",
              "3.0    0.173077\n",
              "4.0    0.076923\n",
              "5.0    0.019231\n",
              "dtype: float64"
            ]
          },
          "metadata": {},
          "execution_count": 201
        }
      ]
    },
    {
      "cell_type": "code",
      "source": [
        " uru_dist= uru_df.groupby(by = \"Home Team Goals\")[\"Home Team Goals\"].count()/len(uru_df)\n",
        " uru_dist.rename(axis = {\"Home Team Goals\" : \"Frecuencia\"}, inplace = True)\n",
        " uru_dist"
      ],
      "metadata": {
        "colab": {
          "base_uri": "https://localhost:8080/"
        },
        "id": "Q8b8FTzC0gyo",
        "outputId": "eb3d6325-7753-4dd0-85e1-ab3c544e70eb"
      },
      "execution_count": 202,
      "outputs": [
        {
          "output_type": "execute_result",
          "data": {
            "text/plain": [
              "Home Team Goals\n",
              "0.0    0.300\n",
              "1.0    0.225\n",
              "2.0    0.250\n",
              "3.0    0.150\n",
              "4.0    0.050\n",
              "6.0    0.025\n",
              "dtype: float64"
            ]
          },
          "metadata": {},
          "execution_count": 202
        }
      ]
    },
    {
      "cell_type": "code",
      "source": [
        " bel_dist= bel_df.groupby(by = \"Home Team Goals\")[\"Home Team Goals\"].count()/len(bel_df)\n",
        " bel_dist.rename(axis = {\"Home Team Goals\" : \"Frecuencia\"}, inplace = True)\n",
        " bel_dist"
      ],
      "metadata": {
        "colab": {
          "base_uri": "https://localhost:8080/"
        },
        "id": "TkHOKBQe0hxs",
        "outputId": "b95384d3-a05c-46ce-8da9-fbc053f1eff8"
      },
      "execution_count": 203,
      "outputs": [
        {
          "output_type": "execute_result",
          "data": {
            "text/plain": [
              "Home Team Goals\n",
              "0.0    0.121951\n",
              "1.0    0.365854\n",
              "2.0    0.195122\n",
              "3.0    0.195122\n",
              "4.0    0.097561\n",
              "5.0    0.024390\n",
              "dtype: float64"
            ]
          },
          "metadata": {},
          "execution_count": 203
        }
      ]
    },
    {
      "cell_type": "code",
      "source": [],
      "metadata": {
        "id": "5iYq2P5H0nQM"
      },
      "execution_count": null,
      "outputs": []
    }
  ]
}