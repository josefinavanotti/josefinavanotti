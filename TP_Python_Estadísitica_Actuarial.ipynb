{
  "nbformat": 4,
  "nbformat_minor": 0,
  "metadata": {
    "colab": {
      "provenance": [],
      "collapsed_sections": [],
      "toc_visible": true,
      "include_colab_link": true
    },
    "kernelspec": {
      "name": "python3",
      "display_name": "Python 3"
    },
    "language_info": {
      "name": "python"
    }
  },
  "cells": [
    {
      "cell_type": "markdown",
      "metadata": {
        "id": "view-in-github",
        "colab_type": "text"
      },
      "source": [
        "<a href=\"https://colab.research.google.com/github/josefinavanotti/josefinavanotti/blob/main/TP_Python_Estad%C3%ADsitica_Actuarial.ipynb\" target=\"_parent\"><img src=\"https://colab.research.google.com/assets/colab-badge.svg\" alt=\"Open In Colab\"/></a>"
      ]
    },
    {
      "cell_type": "markdown",
      "source": [
        "## **2.1 Estadística Descriptiva y Manejo de Datos**"
      ],
      "metadata": {
        "id": "e0Lo7AwsVWjp"
      }
    },
    {
      "cell_type": "markdown",
      "source": [
        "Importo las librerías que se van a utilizar:"
      ],
      "metadata": {
        "id": "Yw7pKP44Xb0m"
      }
    },
    {
      "cell_type": "code",
      "source": [
        "import pandas as pd\n",
        "import numpy as np\n",
        "import statistics\n",
        "\n",
        "import matplotlib.pyplot as plt\n",
        "import seaborn as sn\n",
        "\n",
        "from scipy import stats\n",
        "from random import sample\n",
        "from scipy.stats import norm\n",
        "import warnings\n",
        "\n",
        "warnings.simplefilter(\"ignore\")"
      ],
      "metadata": {
        "id": "4gT2klCJXZt8"
      },
      "execution_count": 28,
      "outputs": []
    },
    {
      "cell_type": "markdown",
      "source": [
        "Importación y lectura del archivo:"
      ],
      "metadata": {
        "id": "YzAEs_PiX3dh"
      }
    },
    {
      "cell_type": "code",
      "source": [
        "from google.colab import files\n",
        "uploaded = files.upload()"
      ],
      "metadata": {
        "colab": {
          "base_uri": "https://localhost:8080/",
          "height": 72
        },
        "id": "GpkF3RzHX67i",
        "outputId": "e1dbc251-c701-4be9-d68a-8a4d58e0c051"
      },
      "execution_count": 29,
      "outputs": [
        {
          "output_type": "display_data",
          "data": {
            "text/plain": [
              "<IPython.core.display.HTML object>"
            ],
            "text/html": [
              "\n",
              "     <input type=\"file\" id=\"files-4b7bc29e-ef43-4cef-9d15-84f30cfee776\" name=\"files[]\" multiple disabled\n",
              "        style=\"border:none\" />\n",
              "     <output id=\"result-4b7bc29e-ef43-4cef-9d15-84f30cfee776\">\n",
              "      Upload widget is only available when the cell has been executed in the\n",
              "      current browser session. Please rerun this cell to enable.\n",
              "      </output>\n",
              "      <script>// Copyright 2017 Google LLC\n",
              "//\n",
              "// Licensed under the Apache License, Version 2.0 (the \"License\");\n",
              "// you may not use this file except in compliance with the License.\n",
              "// You may obtain a copy of the License at\n",
              "//\n",
              "//      http://www.apache.org/licenses/LICENSE-2.0\n",
              "//\n",
              "// Unless required by applicable law or agreed to in writing, software\n",
              "// distributed under the License is distributed on an \"AS IS\" BASIS,\n",
              "// WITHOUT WARRANTIES OR CONDITIONS OF ANY KIND, either express or implied.\n",
              "// See the License for the specific language governing permissions and\n",
              "// limitations under the License.\n",
              "\n",
              "/**\n",
              " * @fileoverview Helpers for google.colab Python module.\n",
              " */\n",
              "(function(scope) {\n",
              "function span(text, styleAttributes = {}) {\n",
              "  const element = document.createElement('span');\n",
              "  element.textContent = text;\n",
              "  for (const key of Object.keys(styleAttributes)) {\n",
              "    element.style[key] = styleAttributes[key];\n",
              "  }\n",
              "  return element;\n",
              "}\n",
              "\n",
              "// Max number of bytes which will be uploaded at a time.\n",
              "const MAX_PAYLOAD_SIZE = 100 * 1024;\n",
              "\n",
              "function _uploadFiles(inputId, outputId) {\n",
              "  const steps = uploadFilesStep(inputId, outputId);\n",
              "  const outputElement = document.getElementById(outputId);\n",
              "  // Cache steps on the outputElement to make it available for the next call\n",
              "  // to uploadFilesContinue from Python.\n",
              "  outputElement.steps = steps;\n",
              "\n",
              "  return _uploadFilesContinue(outputId);\n",
              "}\n",
              "\n",
              "// This is roughly an async generator (not supported in the browser yet),\n",
              "// where there are multiple asynchronous steps and the Python side is going\n",
              "// to poll for completion of each step.\n",
              "// This uses a Promise to block the python side on completion of each step,\n",
              "// then passes the result of the previous step as the input to the next step.\n",
              "function _uploadFilesContinue(outputId) {\n",
              "  const outputElement = document.getElementById(outputId);\n",
              "  const steps = outputElement.steps;\n",
              "\n",
              "  const next = steps.next(outputElement.lastPromiseValue);\n",
              "  return Promise.resolve(next.value.promise).then((value) => {\n",
              "    // Cache the last promise value to make it available to the next\n",
              "    // step of the generator.\n",
              "    outputElement.lastPromiseValue = value;\n",
              "    return next.value.response;\n",
              "  });\n",
              "}\n",
              "\n",
              "/**\n",
              " * Generator function which is called between each async step of the upload\n",
              " * process.\n",
              " * @param {string} inputId Element ID of the input file picker element.\n",
              " * @param {string} outputId Element ID of the output display.\n",
              " * @return {!Iterable<!Object>} Iterable of next steps.\n",
              " */\n",
              "function* uploadFilesStep(inputId, outputId) {\n",
              "  const inputElement = document.getElementById(inputId);\n",
              "  inputElement.disabled = false;\n",
              "\n",
              "  const outputElement = document.getElementById(outputId);\n",
              "  outputElement.innerHTML = '';\n",
              "\n",
              "  const pickedPromise = new Promise((resolve) => {\n",
              "    inputElement.addEventListener('change', (e) => {\n",
              "      resolve(e.target.files);\n",
              "    });\n",
              "  });\n",
              "\n",
              "  const cancel = document.createElement('button');\n",
              "  inputElement.parentElement.appendChild(cancel);\n",
              "  cancel.textContent = 'Cancel upload';\n",
              "  const cancelPromise = new Promise((resolve) => {\n",
              "    cancel.onclick = () => {\n",
              "      resolve(null);\n",
              "    };\n",
              "  });\n",
              "\n",
              "  // Wait for the user to pick the files.\n",
              "  const files = yield {\n",
              "    promise: Promise.race([pickedPromise, cancelPromise]),\n",
              "    response: {\n",
              "      action: 'starting',\n",
              "    }\n",
              "  };\n",
              "\n",
              "  cancel.remove();\n",
              "\n",
              "  // Disable the input element since further picks are not allowed.\n",
              "  inputElement.disabled = true;\n",
              "\n",
              "  if (!files) {\n",
              "    return {\n",
              "      response: {\n",
              "        action: 'complete',\n",
              "      }\n",
              "    };\n",
              "  }\n",
              "\n",
              "  for (const file of files) {\n",
              "    const li = document.createElement('li');\n",
              "    li.append(span(file.name, {fontWeight: 'bold'}));\n",
              "    li.append(span(\n",
              "        `(${file.type || 'n/a'}) - ${file.size} bytes, ` +\n",
              "        `last modified: ${\n",
              "            file.lastModifiedDate ? file.lastModifiedDate.toLocaleDateString() :\n",
              "                                    'n/a'} - `));\n",
              "    const percent = span('0% done');\n",
              "    li.appendChild(percent);\n",
              "\n",
              "    outputElement.appendChild(li);\n",
              "\n",
              "    const fileDataPromise = new Promise((resolve) => {\n",
              "      const reader = new FileReader();\n",
              "      reader.onload = (e) => {\n",
              "        resolve(e.target.result);\n",
              "      };\n",
              "      reader.readAsArrayBuffer(file);\n",
              "    });\n",
              "    // Wait for the data to be ready.\n",
              "    let fileData = yield {\n",
              "      promise: fileDataPromise,\n",
              "      response: {\n",
              "        action: 'continue',\n",
              "      }\n",
              "    };\n",
              "\n",
              "    // Use a chunked sending to avoid message size limits. See b/62115660.\n",
              "    let position = 0;\n",
              "    do {\n",
              "      const length = Math.min(fileData.byteLength - position, MAX_PAYLOAD_SIZE);\n",
              "      const chunk = new Uint8Array(fileData, position, length);\n",
              "      position += length;\n",
              "\n",
              "      const base64 = btoa(String.fromCharCode.apply(null, chunk));\n",
              "      yield {\n",
              "        response: {\n",
              "          action: 'append',\n",
              "          file: file.name,\n",
              "          data: base64,\n",
              "        },\n",
              "      };\n",
              "\n",
              "      let percentDone = fileData.byteLength === 0 ?\n",
              "          100 :\n",
              "          Math.round((position / fileData.byteLength) * 100);\n",
              "      percent.textContent = `${percentDone}% done`;\n",
              "\n",
              "    } while (position < fileData.byteLength);\n",
              "  }\n",
              "\n",
              "  // All done.\n",
              "  yield {\n",
              "    response: {\n",
              "      action: 'complete',\n",
              "    }\n",
              "  };\n",
              "}\n",
              "\n",
              "scope.google = scope.google || {};\n",
              "scope.google.colab = scope.google.colab || {};\n",
              "scope.google.colab._files = {\n",
              "  _uploadFiles,\n",
              "  _uploadFilesContinue,\n",
              "};\n",
              "})(self);\n",
              "</script> "
            ]
          },
          "metadata": {}
        },
        {
          "output_type": "stream",
          "name": "stdout",
          "text": [
            "Saving WorldCupMatches.csv to WorldCupMatches (5).csv\n"
          ]
        }
      ]
    },
    {
      "cell_type": "code",
      "source": [
        "df = pd.read_csv('WorldCupMatches.csv') "
      ],
      "metadata": {
        "id": "cF1AjSyAYOW3"
      },
      "execution_count": 30,
      "outputs": []
    },
    {
      "cell_type": "code",
      "source": [
        "df = df.drop_duplicates()\n",
        "df = df[df['Year'].notna()]\n",
        "df.shape#836 filas\n",
        "#df.tail()"
      ],
      "metadata": {
        "id": "ZQz01rv9w6iQ",
        "colab": {
          "base_uri": "https://localhost:8080/"
        },
        "outputId": "6e90691f-a483-44d2-e3c9-44fdda98b84e"
      },
      "execution_count": 31,
      "outputs": [
        {
          "output_type": "execute_result",
          "data": {
            "text/plain": [
              "(836, 20)"
            ]
          },
          "metadata": {},
          "execution_count": 31
        }
      ]
    },
    {
      "cell_type": "code",
      "source": [
        "df.columns"
      ],
      "metadata": {
        "colab": {
          "base_uri": "https://localhost:8080/"
        },
        "id": "Bwr8awgBZW6A",
        "outputId": "29a1810e-4c8b-47ec-d708-89397fb1f671"
      },
      "execution_count": 32,
      "outputs": [
        {
          "output_type": "execute_result",
          "data": {
            "text/plain": [
              "Index(['Year', 'Datetime', 'Stage', 'Stadium', 'City', 'Home Team Name',\n",
              "       'Home Team Goals', 'Away Team Goals', 'Away Team Name',\n",
              "       'Win conditions', 'Attendance', 'Half-time Home Goals',\n",
              "       'Half-time Away Goals', 'Referee', 'Assistant 1', 'Assistant 2',\n",
              "       'RoundID', 'MatchID', 'Home Team Initials', 'Away Team Initials'],\n",
              "      dtype='object')"
            ]
          },
          "metadata": {},
          "execution_count": 32
        }
      ]
    },
    {
      "cell_type": "code",
      "source": [
        "df.info()"
      ],
      "metadata": {
        "colab": {
          "base_uri": "https://localhost:8080/"
        },
        "id": "uf58SFGfZdIq",
        "outputId": "7019b595-8abf-4bdf-b7c7-f7a6732e7701"
      },
      "execution_count": 33,
      "outputs": [
        {
          "output_type": "stream",
          "name": "stdout",
          "text": [
            "<class 'pandas.core.frame.DataFrame'>\n",
            "Int64Index: 836 entries, 0 to 835\n",
            "Data columns (total 20 columns):\n",
            " #   Column                Non-Null Count  Dtype  \n",
            "---  ------                --------------  -----  \n",
            " 0   Year                  836 non-null    float64\n",
            " 1   Datetime              836 non-null    object \n",
            " 2   Stage                 836 non-null    object \n",
            " 3   Stadium               836 non-null    object \n",
            " 4   City                  836 non-null    object \n",
            " 5   Home Team Name        836 non-null    object \n",
            " 6   Home Team Goals       836 non-null    float64\n",
            " 7   Away Team Goals       836 non-null    float64\n",
            " 8   Away Team Name        836 non-null    object \n",
            " 9   Win conditions        836 non-null    object \n",
            " 10  Attendance            835 non-null    float64\n",
            " 11  Half-time Home Goals  836 non-null    float64\n",
            " 12  Half-time Away Goals  836 non-null    float64\n",
            " 13  Referee               836 non-null    object \n",
            " 14  Assistant 1           836 non-null    object \n",
            " 15  Assistant 2           836 non-null    object \n",
            " 16  RoundID               836 non-null    float64\n",
            " 17  MatchID               836 non-null    float64\n",
            " 18  Home Team Initials    836 non-null    object \n",
            " 19  Away Team Initials    836 non-null    object \n",
            "dtypes: float64(8), object(12)\n",
            "memory usage: 137.2+ KB\n"
          ]
        }
      ]
    },
    {
      "cell_type": "code",
      "source": [
        "round(df.describe()) #Estadísticas"
      ],
      "metadata": {
        "colab": {
          "base_uri": "https://localhost:8080/",
          "height": 301
        },
        "id": "zGM8gA5TZpPt",
        "outputId": "93abc44d-8b1a-40c3-8727-7e752cca6b9a"
      },
      "execution_count": 34,
      "outputs": [
        {
          "output_type": "execute_result",
          "data": {
            "text/plain": [
              "         Year  Home Team Goals  Away Team Goals  Attendance  \\\n",
              "count   836.0            836.0            836.0       835.0   \n",
              "mean   1985.0              2.0              1.0     44859.0   \n",
              "std      22.0              2.0              1.0     23551.0   \n",
              "min    1930.0              0.0              0.0      2000.0   \n",
              "25%    1970.0              1.0              0.0     29800.0   \n",
              "50%    1990.0              2.0              1.0     41000.0   \n",
              "75%    2002.0              3.0              2.0     61009.0   \n",
              "max    2014.0             10.0              7.0    173850.0   \n",
              "\n",
              "       Half-time Home Goals  Half-time Away Goals     RoundID      MatchID  \n",
              "count                 836.0                 836.0       836.0        836.0  \n",
              "mean                    1.0                   0.0  10860927.0   56775774.0  \n",
              "std                     1.0                   1.0  27518016.0  107032911.0  \n",
              "min                     0.0                   0.0       201.0         25.0  \n",
              "25%                     0.0                   0.0       262.0       1184.0  \n",
              "50%                     0.0                   0.0       337.0       2114.0  \n",
              "75%                     1.0                   1.0    249722.0   43950047.0  \n",
              "max                     6.0                   5.0  97410600.0  300186515.0  "
            ],
            "text/html": [
              "\n",
              "  <div id=\"df-7305bf54-e523-4513-a0b1-1801d1990fa4\">\n",
              "    <div class=\"colab-df-container\">\n",
              "      <div>\n",
              "<style scoped>\n",
              "    .dataframe tbody tr th:only-of-type {\n",
              "        vertical-align: middle;\n",
              "    }\n",
              "\n",
              "    .dataframe tbody tr th {\n",
              "        vertical-align: top;\n",
              "    }\n",
              "\n",
              "    .dataframe thead th {\n",
              "        text-align: right;\n",
              "    }\n",
              "</style>\n",
              "<table border=\"1\" class=\"dataframe\">\n",
              "  <thead>\n",
              "    <tr style=\"text-align: right;\">\n",
              "      <th></th>\n",
              "      <th>Year</th>\n",
              "      <th>Home Team Goals</th>\n",
              "      <th>Away Team Goals</th>\n",
              "      <th>Attendance</th>\n",
              "      <th>Half-time Home Goals</th>\n",
              "      <th>Half-time Away Goals</th>\n",
              "      <th>RoundID</th>\n",
              "      <th>MatchID</th>\n",
              "    </tr>\n",
              "  </thead>\n",
              "  <tbody>\n",
              "    <tr>\n",
              "      <th>count</th>\n",
              "      <td>836.0</td>\n",
              "      <td>836.0</td>\n",
              "      <td>836.0</td>\n",
              "      <td>835.0</td>\n",
              "      <td>836.0</td>\n",
              "      <td>836.0</td>\n",
              "      <td>836.0</td>\n",
              "      <td>836.0</td>\n",
              "    </tr>\n",
              "    <tr>\n",
              "      <th>mean</th>\n",
              "      <td>1985.0</td>\n",
              "      <td>2.0</td>\n",
              "      <td>1.0</td>\n",
              "      <td>44859.0</td>\n",
              "      <td>1.0</td>\n",
              "      <td>0.0</td>\n",
              "      <td>10860927.0</td>\n",
              "      <td>56775774.0</td>\n",
              "    </tr>\n",
              "    <tr>\n",
              "      <th>std</th>\n",
              "      <td>22.0</td>\n",
              "      <td>2.0</td>\n",
              "      <td>1.0</td>\n",
              "      <td>23551.0</td>\n",
              "      <td>1.0</td>\n",
              "      <td>1.0</td>\n",
              "      <td>27518016.0</td>\n",
              "      <td>107032911.0</td>\n",
              "    </tr>\n",
              "    <tr>\n",
              "      <th>min</th>\n",
              "      <td>1930.0</td>\n",
              "      <td>0.0</td>\n",
              "      <td>0.0</td>\n",
              "      <td>2000.0</td>\n",
              "      <td>0.0</td>\n",
              "      <td>0.0</td>\n",
              "      <td>201.0</td>\n",
              "      <td>25.0</td>\n",
              "    </tr>\n",
              "    <tr>\n",
              "      <th>25%</th>\n",
              "      <td>1970.0</td>\n",
              "      <td>1.0</td>\n",
              "      <td>0.0</td>\n",
              "      <td>29800.0</td>\n",
              "      <td>0.0</td>\n",
              "      <td>0.0</td>\n",
              "      <td>262.0</td>\n",
              "      <td>1184.0</td>\n",
              "    </tr>\n",
              "    <tr>\n",
              "      <th>50%</th>\n",
              "      <td>1990.0</td>\n",
              "      <td>2.0</td>\n",
              "      <td>1.0</td>\n",
              "      <td>41000.0</td>\n",
              "      <td>0.0</td>\n",
              "      <td>0.0</td>\n",
              "      <td>337.0</td>\n",
              "      <td>2114.0</td>\n",
              "    </tr>\n",
              "    <tr>\n",
              "      <th>75%</th>\n",
              "      <td>2002.0</td>\n",
              "      <td>3.0</td>\n",
              "      <td>2.0</td>\n",
              "      <td>61009.0</td>\n",
              "      <td>1.0</td>\n",
              "      <td>1.0</td>\n",
              "      <td>249722.0</td>\n",
              "      <td>43950047.0</td>\n",
              "    </tr>\n",
              "    <tr>\n",
              "      <th>max</th>\n",
              "      <td>2014.0</td>\n",
              "      <td>10.0</td>\n",
              "      <td>7.0</td>\n",
              "      <td>173850.0</td>\n",
              "      <td>6.0</td>\n",
              "      <td>5.0</td>\n",
              "      <td>97410600.0</td>\n",
              "      <td>300186515.0</td>\n",
              "    </tr>\n",
              "  </tbody>\n",
              "</table>\n",
              "</div>\n",
              "      <button class=\"colab-df-convert\" onclick=\"convertToInteractive('df-7305bf54-e523-4513-a0b1-1801d1990fa4')\"\n",
              "              title=\"Convert this dataframe to an interactive table.\"\n",
              "              style=\"display:none;\">\n",
              "        \n",
              "  <svg xmlns=\"http://www.w3.org/2000/svg\" height=\"24px\"viewBox=\"0 0 24 24\"\n",
              "       width=\"24px\">\n",
              "    <path d=\"M0 0h24v24H0V0z\" fill=\"none\"/>\n",
              "    <path d=\"M18.56 5.44l.94 2.06.94-2.06 2.06-.94-2.06-.94-.94-2.06-.94 2.06-2.06.94zm-11 1L8.5 8.5l.94-2.06 2.06-.94-2.06-.94L8.5 2.5l-.94 2.06-2.06.94zm10 10l.94 2.06.94-2.06 2.06-.94-2.06-.94-.94-2.06-.94 2.06-2.06.94z\"/><path d=\"M17.41 7.96l-1.37-1.37c-.4-.4-.92-.59-1.43-.59-.52 0-1.04.2-1.43.59L10.3 9.45l-7.72 7.72c-.78.78-.78 2.05 0 2.83L4 21.41c.39.39.9.59 1.41.59.51 0 1.02-.2 1.41-.59l7.78-7.78 2.81-2.81c.8-.78.8-2.07 0-2.86zM5.41 20L4 18.59l7.72-7.72 1.47 1.35L5.41 20z\"/>\n",
              "  </svg>\n",
              "      </button>\n",
              "      \n",
              "  <style>\n",
              "    .colab-df-container {\n",
              "      display:flex;\n",
              "      flex-wrap:wrap;\n",
              "      gap: 12px;\n",
              "    }\n",
              "\n",
              "    .colab-df-convert {\n",
              "      background-color: #E8F0FE;\n",
              "      border: none;\n",
              "      border-radius: 50%;\n",
              "      cursor: pointer;\n",
              "      display: none;\n",
              "      fill: #1967D2;\n",
              "      height: 32px;\n",
              "      padding: 0 0 0 0;\n",
              "      width: 32px;\n",
              "    }\n",
              "\n",
              "    .colab-df-convert:hover {\n",
              "      background-color: #E2EBFA;\n",
              "      box-shadow: 0px 1px 2px rgba(60, 64, 67, 0.3), 0px 1px 3px 1px rgba(60, 64, 67, 0.15);\n",
              "      fill: #174EA6;\n",
              "    }\n",
              "\n",
              "    [theme=dark] .colab-df-convert {\n",
              "      background-color: #3B4455;\n",
              "      fill: #D2E3FC;\n",
              "    }\n",
              "\n",
              "    [theme=dark] .colab-df-convert:hover {\n",
              "      background-color: #434B5C;\n",
              "      box-shadow: 0px 1px 3px 1px rgba(0, 0, 0, 0.15);\n",
              "      filter: drop-shadow(0px 1px 2px rgba(0, 0, 0, 0.3));\n",
              "      fill: #FFFFFF;\n",
              "    }\n",
              "  </style>\n",
              "\n",
              "      <script>\n",
              "        const buttonEl =\n",
              "          document.querySelector('#df-7305bf54-e523-4513-a0b1-1801d1990fa4 button.colab-df-convert');\n",
              "        buttonEl.style.display =\n",
              "          google.colab.kernel.accessAllowed ? 'block' : 'none';\n",
              "\n",
              "        async function convertToInteractive(key) {\n",
              "          const element = document.querySelector('#df-7305bf54-e523-4513-a0b1-1801d1990fa4');\n",
              "          const dataTable =\n",
              "            await google.colab.kernel.invokeFunction('convertToInteractive',\n",
              "                                                     [key], {});\n",
              "          if (!dataTable) return;\n",
              "\n",
              "          const docLinkHtml = 'Like what you see? Visit the ' +\n",
              "            '<a target=\"_blank\" href=https://colab.research.google.com/notebooks/data_table.ipynb>data table notebook</a>'\n",
              "            + ' to learn more about interactive tables.';\n",
              "          element.innerHTML = '';\n",
              "          dataTable['output_type'] = 'display_data';\n",
              "          await google.colab.output.renderOutput(dataTable, element);\n",
              "          const docLink = document.createElement('div');\n",
              "          docLink.innerHTML = docLinkHtml;\n",
              "          element.appendChild(docLink);\n",
              "        }\n",
              "      </script>\n",
              "    </div>\n",
              "  </div>\n",
              "  "
            ]
          },
          "metadata": {},
          "execution_count": 34
        }
      ]
    },
    {
      "cell_type": "markdown",
      "source": [
        "## ▶*Problem 1*\n",
        "Obtenga la cantidad total de goles en los mundiales del año:"
      ],
      "metadata": {
        "id": "KBsV7yJsbKEd"
      }
    },
    {
      "cell_type": "code",
      "source": [
        "total_goals= df['Home Team Goals'] + df['Away Team Goals']\n",
        "df = df.assign(total_goals=total_goals)\n",
        "print(df. iloc[:,-1:])"
      ],
      "metadata": {
        "colab": {
          "base_uri": "https://localhost:8080/"
        },
        "id": "J9sSXG04bRyD",
        "outputId": "8e7d1db8-5ef5-49d9-b761-323c3560c59e"
      },
      "execution_count": 35,
      "outputs": [
        {
          "output_type": "stream",
          "name": "stdout",
          "text": [
            "     total_goals\n",
            "0            5.0\n",
            "1            3.0\n",
            "2            3.0\n",
            "3            4.0\n",
            "4            1.0\n",
            "..           ...\n",
            "831          1.0\n",
            "832          3.0\n",
            "833          2.0\n",
            "834          1.0\n",
            "835          3.0\n",
            "\n",
            "[836 rows x 1 columns]\n"
          ]
        }
      ]
    },
    {
      "cell_type": "code",
      "source": [
        "goals_78=sum(df[df['Year'] == 1978]['total_goals'])\n",
        "goals_78\n",
        "print(\"la cantidad total de goles en el mundial del año 1978 fue:\", goals_78 )"
      ],
      "metadata": {
        "colab": {
          "base_uri": "https://localhost:8080/"
        },
        "id": "5akUdNlWt0im",
        "outputId": "08b7f3b0-a606-4708-dc7b-53a0a78d4a20"
      },
      "execution_count": 36,
      "outputs": [
        {
          "output_type": "stream",
          "name": "stdout",
          "text": [
            "la cantidad total de goles en el mundial del año 1978 fue: 102.0\n"
          ]
        }
      ]
    },
    {
      "cell_type": "code",
      "source": [
        "goals_86=sum(df[df['Year'] == 1986]['total_goals'])\n",
        "goals_86\n",
        "print(\"la cantidad total de goles en el mundial del año 1986 fue:\", goals_86 )"
      ],
      "metadata": {
        "colab": {
          "base_uri": "https://localhost:8080/"
        },
        "id": "Lv-ftJg85nnd",
        "outputId": "ec9d4f74-df7f-4eed-c06d-aa77ed35c932"
      },
      "execution_count": 37,
      "outputs": [
        {
          "output_type": "stream",
          "name": "stdout",
          "text": [
            "la cantidad total de goles en el mundial del año 1986 fue: 132.0\n"
          ]
        }
      ]
    },
    {
      "cell_type": "code",
      "source": [
        "goals_90=sum(df[df['Year'] == 1990]['total_goals'])\n",
        "goals_90\n",
        "print(\"la cantidad total de goles en el mundial del año 1990 fue:\", goals_90 )"
      ],
      "metadata": {
        "colab": {
          "base_uri": "https://localhost:8080/"
        },
        "id": "_23Tujbl5tj6",
        "outputId": "c1eb4b42-e8c9-485c-c8b4-c09750177b8a"
      },
      "execution_count": 38,
      "outputs": [
        {
          "output_type": "stream",
          "name": "stdout",
          "text": [
            "la cantidad total de goles en el mundial del año 1990 fue: 115.0\n"
          ]
        }
      ]
    },
    {
      "cell_type": "markdown",
      "source": [
        "# ▶*Problem 2:*\n",
        " Obtenga la cantidad de goles anotados por Argentina entre 1998 y 2010, inclusive.\n",
        "¿Cuántos fueron de ’local’ (home) y cuántos de ’visitante’ (away)?\n"
      ],
      "metadata": {
        "id": "P1fhdOmu7M_J"
      }
    },
    {
      "cell_type": "code",
      "source": [
        "\n",
        "year_range_query = (df['Year'] >= 1998) & (df['Year'] <= 2010)\n",
        "wcp = df[year_range_query]\n",
        "arg_local_goals = sum(wcp[wcp['Home Team Name'] == 'Argentina']['Home Team Goals'])\n",
        "arg_away_goals = sum(wcp[wcp['Away Team Name'] == 'Argentina']['Away Team Goals'])\n",
        "total_arg_goals = arg_local_goals + arg_away_goals\n",
        "\n",
        "print('La cantidad de goles anotados por Argentina entre 1998 y 2010 fue de:',total_arg_goals, '. Los goles de local fueron',arg_local_goals , 'y los goles de visitante fueron' , arg_away_goals )\n"
      ],
      "metadata": {
        "colab": {
          "base_uri": "https://localhost:8080/"
        },
        "id": "KVLgKdsp9KOI",
        "outputId": "7985c3e8-878d-4f58-931f-d6fd1e16805e"
      },
      "execution_count": 39,
      "outputs": [
        {
          "output_type": "stream",
          "name": "stdout",
          "text": [
            "La cantidad de goles anotados por Argentina entre 1998 y 2010 fue de: 33.0 . Los goles de local fueron 28.0 y los goles de visitante fueron 5.0\n"
          ]
        }
      ]
    },
    {
      "cell_type": "markdown",
      "source": [
        "# ▶ Problem 3\n",
        "¿Cuál de los siguientes países jugó más mundiales: Brasil, Inglaterra o Francia? Indique\n",
        "el total de veces que jugó cada uno.\n"
      ],
      "metadata": {
        "id": "Ruor9q5L60WN"
      }
    },
    {
      "cell_type": "code",
      "source": [
        "#bra_matches = (df['Home Team Name'] == 'Brazil') | (df['Away Team Name'] == 'Brazil') # (df['Away Team Name'] == 'Brazil')\n",
        "#total_bra_matches=bra_matches.sum() #104\n",
        "#eng_matches = (df['Home Team Name'] == 'England') | (df['Away Team Name'] == 'England') \n",
        "#total_eng_matches=eng_matches.sum() #62\n",
        "#fra_matches = (df['Home Team Name'] == 'France') | (df['Away Team Name'] == 'France')\n",
        "#total_fra_matches=fra_matches.sum() #59\n",
        "#if total_fra_matches > total_eng_matches :\n",
        "#  print('El país que jugó más mundiales fue Francia con',total_fra_matches,'- Brasil jugó',total_bra_matches,'- Inglaterra jugó',total_eng_matches)\n",
        "#elif total_eng_matches > total_bra_matches :\n",
        " #   print('El país que jugó más mundiales fue Inglaterra con',total_eng_matches,'- Brasil jugó',total_bra_matches,'- Francia jugó',total_fra_matches)\n",
        "#else :\n",
        "#      print('El país que jugó más mundiales fue Brasil con',total_bra_matches,'- Francia jugó',total_fra_matches,'- Inglaterra jugó',total_eng_matches)"
      ],
      "metadata": {
        "colab": {
          "base_uri": "https://localhost:8080/"
        },
        "id": "4fITUC81TGYq",
        "outputId": "f94d2906-7e22-4341-fcbf-6284a31fdf1b"
      },
      "execution_count": 40,
      "outputs": [
        {
          "output_type": "stream",
          "name": "stdout",
          "text": [
            "El país que jugó más mundiales fue Brasil con 104 - Francia jugó 59 - Inglaterra jugó 62\n"
          ]
        }
      ]
    },
    {
      "cell_type": "code",
      "source": [
        "bra_matches = (df['Home Team Name'] == 'Brazil') | (df['Away Team Name'] == 'Brazil') \n",
        "bra_years = set(df[bra_matches]['Year'])\n",
        "bra_wcp = len(bra_years)\n",
        "eng_matches = (df['Home Team Name'] == 'England') | (df['Away Team Name'] == 'England') \n",
        "eng_years = set(df[eng_matches]['Year'])\n",
        "eng_wcp = len(eng_years)\n",
        "fra_matches = (df['Home Team Name'] == 'France') | (df['Away Team Name'] == 'France') \n",
        "fra_years = set(df[fra_matches]['Year'])\n",
        "fra_wcp = len(fra_years)\n",
        "\n",
        "if fra_wcp > eng_wcp :\n",
        "  print('El país que jugó más mundiales fue Francia con',fra_wcp,'- Brasil jugó',bra_wcp,'- Inglaterra jugó',eng_wcp)\n",
        "elif eng_wcp > bra_wcp :\n",
        "    print('El país que jugó más mundiales fue Inglaterra con',eng_wcp,'- Brasil jugó',bra_wcp,'- Francia jugó',fra_wcp)\n",
        "else :\n",
        "      print('El país que jugó más mundiales fue Brasil con',bra_wcp,'- Francia jugó',fra_wcp,'- Inglaterra jugó',eng_wcp)\n",
        "\n"
      ],
      "metadata": {
        "id": "gZMO5xwGwjcU",
        "outputId": "403366d9-c5aa-40e5-8aa9-6853d63b9fc2",
        "colab": {
          "base_uri": "https://localhost:8080/"
        }
      },
      "execution_count": 50,
      "outputs": [
        {
          "output_type": "stream",
          "name": "stdout",
          "text": [
            "El país que jugó más mundiales fue Brasil con 20 - Francia jugó 14 - Inglaterra jugó 14\n"
          ]
        }
      ]
    },
    {
      "cell_type": "markdown",
      "source": [
        "# ▶ Problem 4\n",
        "Calcule el promedio, la mediana y el desvío de los goles anotados por equipos ’locales’ (home) entre los años 2006 y 2014, inclusive. Grafique un histograma con la distribución de dicha variable."
      ],
      "metadata": {
        "id": "W1xevIdBPNTx"
      }
    },
    {
      "cell_type": "code",
      "source": [
        "year_range = (df['Year'] >= 2006) & (df['Year'] <= 2014) #192 partidos\n",
        "htg = df[year_range]\n",
        "mean_htg = round(np.mean(htg['Home Team Goals']),4)\n",
        "print('El promedio de goles anotados por equipos \"locales\" fue de:',mean_htg)\n",
        "\n",
        "\n",
        "#otra forma\n",
        "#total_years = year_range.sum()\n",
        "#home_team_goals = sum(htg['Home Team Goals'])  #243 goles de local\n",
        "#mean_home_team_goals = home_team_goals/total_years\n",
        "#print('El promedio de goles anotados por equipos \"locales\" fue de:',mean_home_team_goals)\n",
        "#mean_home_team_goals = htg.mean(htg['Home Team Goals'])\n"
      ],
      "metadata": {
        "colab": {
          "base_uri": "https://localhost:8080/"
        },
        "id": "KhVshqGwPMcT",
        "outputId": "f9a0d16e-a1ee-4f61-ae63-a83567604228"
      },
      "execution_count": 41,
      "outputs": [
        {
          "output_type": "stream",
          "name": "stdout",
          "text": [
            "El promedio de goles anotados por equipos \"locales\" fue de: 1.2656\n"
          ]
        }
      ]
    },
    {
      "cell_type": "code",
      "source": [
        "home_team_goals = df[['Year','Home Team Goals']]\n",
        "year_range2 = (home_team_goals['Year']>=2006 & (home_team_goals['Year']<=2014))\n",
        "home_goals = home_team_goals[year_range2]"
      ],
      "metadata": {
        "id": "HFMD4W2EsIhe"
      },
      "execution_count": 42,
      "outputs": []
    },
    {
      "cell_type": "code",
      "source": [
        "median_htg = np.median(htg['Home Team Goals'])\n",
        "print('La mediana de goles anotados por equipos \"locales\" fue de:',median_htg)"
      ],
      "metadata": {
        "colab": {
          "base_uri": "https://localhost:8080/"
        },
        "id": "y6TIBeKtnL5C",
        "outputId": "14426b19-b18d-4342-9aaa-357ddf443dc4"
      },
      "execution_count": 43,
      "outputs": [
        {
          "output_type": "stream",
          "name": "stdout",
          "text": [
            "La mediana de goles anotados por equipos \"locales\" fue de: 1.0\n"
          ]
        }
      ]
    },
    {
      "cell_type": "code",
      "source": [
        "std_htg = round(np.std(htg['Home Team Goals']),4)\n",
        "print('El desvío de goles anotados por equipos \"locales\" fue de:',std_htg)"
      ],
      "metadata": {
        "colab": {
          "base_uri": "https://localhost:8080/"
        },
        "id": "ChBXFFC_h9OD",
        "outputId": "9a44e48d-e46b-4f83-accb-97265d3ef407"
      },
      "execution_count": 44,
      "outputs": [
        {
          "output_type": "stream",
          "name": "stdout",
          "text": [
            "El desvío de goles anotados por equipos \"locales\" fue de: 1.2107\n"
          ]
        }
      ]
    },
    {
      "cell_type": "code",
      "source": [
        "plt.hist(home_team_goals)"
      ],
      "metadata": {
        "colab": {
          "base_uri": "https://localhost:8080/",
          "height": 439
        },
        "id": "YiosTObsoVin",
        "outputId": "564e497f-cf3e-4f83-b1b4-d2178c9018d2"
      },
      "execution_count": 45,
      "outputs": [
        {
          "output_type": "execute_result",
          "data": {
            "text/plain": [
              "(array([[1., 0., 0., ..., 0., 0., 1.],\n",
              "        [1., 0., 0., ..., 0., 0., 1.],\n",
              "        [1., 0., 0., ..., 0., 0., 1.],\n",
              "        ...,\n",
              "        [1., 0., 0., ..., 0., 0., 1.],\n",
              "        [1., 0., 0., ..., 0., 0., 1.],\n",
              "        [1., 0., 0., ..., 0., 0., 1.]]),\n",
              " array([   0. ,  201.4,  402.8,  604.2,  805.6, 1007. , 1208.4, 1409.8,\n",
              "        1611.2, 1812.6, 2014. ]),\n",
              " <a list of 836 Lists of Patches objects>)"
            ]
          },
          "metadata": {},
          "execution_count": 45
        },
        {
          "output_type": "display_data",
          "data": {
            "text/plain": [
              "<Figure size 432x288 with 1 Axes>"
            ],
            "image/png": "[encoded data removed]"
          },
          "metadata": {
            "needs_background": "light"
          }
        }
      ]
    },
    {
      "cell_type": "markdown",
      "source": [
        "#*Problem 5*\n",
        "\n",
        "Obtenga la media y la varianza de la asistencia de cada partido (attendance) entre los\n",
        "años 1930 y 1960. Realice lo mismo para el período 1980 a 2010. Compare ambas\n",
        "distribuciones mediante un gráfico donde se vean dichas distribuciones sobre el mismo\n",
        "eje.\n"
      ],
      "metadata": {
        "id": "JJ8nFGUdRl6v"
      }
    },
    {
      "cell_type": "code",
      "source": [
        "year_range_query2 = (df['Year'] >= 1930) & (df['Year'] <= 1960)\n",
        "atte=df[year_range_query2]\n",
        "attendance = sum(atte['Attendance'])\n",
        "attendance_mean1 = attendance/len(atte['Attendance'])\n",
        "print('La media de la asistencia de cada partido entre 1930 y 1960 es:' , attendance_mean1)"
      ],
      "metadata": {
        "id": "lg1vn5WpRw19",
        "colab": {
          "base_uri": "https://localhost:8080/"
        },
        "outputId": "1a1e4917-5e0e-4731-cfd5-b74050e994bf"
      },
      "execution_count": 52,
      "outputs": [
        {
          "output_type": "stream",
          "name": "stdout",
          "text": [
            "La media de la asistencia de cada partido entre 1930 y 1960 es: 29139.058823529413\n"
          ]
        }
      ]
    },
    {
      "cell_type": "code",
      "source": [
        "attendance_var1 = statistics.variance(atte['Attendance'])\n",
        "print('La varianza de la asistencia de cada partido entre 1930 y 1960 es:' , attendance_var1)"
      ],
      "metadata": {
        "colab": {
          "base_uri": "https://localhost:8080/"
        },
        "id": "3DLPjychdXbj",
        "outputId": "01f06835-df2e-4ae3-9f6e-a6b8ab60e2c1"
      },
      "execution_count": 53,
      "outputs": [
        {
          "output_type": "stream",
          "name": "stdout",
          "text": [
            "La varianza de la asistencia de cada partido entre 1930 y 1960 es: 773630510.0261438\n"
          ]
        }
      ]
    },
    {
      "cell_type": "code",
      "source": [
        "year_range_query2 = (df['Year'] >= 1980) & (df['Year'] <= 2010)\n",
        "atte=df[year_range_query2]\n",
        "attendance = sum(atte['Attendance'])\n",
        "attendance_mean2 = attendance/len(atte['Attendance'])\n",
        "print('La media de la asistencia de cada partido entre 1980 y 2010 es:' , attendance_mean2)"
      ],
      "metadata": {
        "colab": {
          "base_uri": "https://localhost:8080/"
        },
        "outputId": "7f19082d-0615-474b-99f1-7c3b584f02d2",
        "id": "ZGGzN6nEfpC5"
      },
      "execution_count": 54,
      "outputs": [
        {
          "output_type": "stream",
          "name": "stdout",
          "text": [
            "La media de la asistencia de cada partido entre 1980 y 2010 es: 48784.69612068965\n"
          ]
        }
      ]
    },
    {
      "cell_type": "code",
      "source": [
        "attendance_var2 = statistics.variance(atte['Attendance'])\n",
        "print('La varianza de la asistencia de cada partido entre 1980 y 2010 es:' , attendance_var2)"
      ],
      "metadata": {
        "colab": {
          "base_uri": "https://localhost:8080/"
        },
        "outputId": "48b685d0-8731-4453-b5d1-bd66ab3b7ba9",
        "id": "dprmbhU2fyYD"
      },
      "execution_count": 55,
      "outputs": [
        {
          "output_type": "stream",
          "name": "stdout",
          "text": [
            "La varianza de la asistencia de cada partido entre 1980 y 2010 es: 390216083.0284082\n"
          ]
        }
      ]
    },
    {
      "cell_type": "code",
      "source": [
        "\n",
        "params = [(attendance_mean1, np.sqrt(attendance_var1)),(attendance_mean2, np.sqrt(attendance_var2))]\n",
        "\n",
        "\n",
        "for mu, sigma in params:\n",
        "    sn.distplot(np.random.normal(mu, sigma, 1000), hist = False, kde = True,\n",
        "                 kde_kws = {'linewidth': 2})\n",
        "    \n",
        "plt.legend(prop={'size': 8}, title = 'Parámetros')\n",
        "plt.xlabel('Valores')\n",
        "plt.ylabel('Densidad')\n",
        "plt.legend(['1930-1960', '1980-2010'])\n",
        "plt.show()"
      ],
      "metadata": {
        "id": "MwtmdlAKf9Uf",
        "colab": {
          "base_uri": "https://localhost:8080/",
          "height": 307
        },
        "outputId": "9ca845d2-9f5e-44d7-e0a5-a90fd40850be"
      },
      "execution_count": 80,
      "outputs": [
        {
          "output_type": "stream",
          "name": "stderr",
          "text": [
            "WARNING:matplotlib.legend:No handles with labels found to put in legend.\n"
          ]
        },
        {
          "output_type": "display_data",
          "data": {
            "text/plain": [
              "<Figure size 432x288 with 1 Axes>"
            ],
            "image/png": "[encoded data removed]"
          },
          "metadata": {
            "needs_background": "light"
          }
        }
      ]
    },
    {
      "cell_type": "markdown",
      "source": [
        "## **2.2 Series Temporales**\n"
      ],
      "metadata": {
        "id": "1-byr6Y_VXGc"
      }
    },
    {
      "cell_type": "markdown",
      "source": [
        "## **2.3 Simulación**\n"
      ],
      "metadata": {
        "id": "iOZE1FLjVXi9"
      }
    }
  ]
}